{
 "cells": [
  {
   "cell_type": "markdown",
   "id": "e6bb458a",
   "metadata": {},
   "source": [
    "* [3.1 Preprocessing](#3.1-Preprocessing)\n",
    "    * [3.1.1 Tokenize](#3.1.1-Tokenize)\n",
    "    * [3.1.2 Lemmatize](#3.1.2-Lemmatize)\n",
    "    * [3.1.3 Stem](#3.1.3-Stem)    \n",
    "    \n",
    "* [3.2 Baseline Model](#3.2-Baseline-Model)\n",
    "    * [3.2.1 Count Vectorizer](#3.2.1-Count-Vectorizer)\n",
    "    * [3.2.2 Naive Bayes](#3.2.2-Naive-Bayes)\n",
    "        * [3.2.2.1 Tokenized words](#3.2.2.1-Tokenized-words)\n",
    "        * [3.2.2.2 Lemmatized words](#3.2.2.2-Lemmatized-words)\n",
    "        * [3.2.2.3 Stemmed words](#3.2.2.3-Stemmed-words)\n",
    "    * [3.2.3 Stopwords](#3.2.3-Stopwords)\n",
    "    * [3.2.4 Naive Bayes 2](#3.2.4-Naive-Bayes-2)    \n",
    "\n",
    "* [3.3 Model Tuning](#3.3-Model-Tuning)\n",
    "    * [3.3.1 Naive Bayes with TF-IDF](#3.3.1-Naive-Bayes-with-TF-IDF)\n",
    "    * [3.3.2 Random Forest](#3.3.2-Random-Forest)    \n",
    "\n",
    "* [3.4 Conclusion and Recommendation](#3.4-Conclusion-and-Recommendation)"
   ]
  },
  {
   "cell_type": "code",
   "execution_count": 299,
   "id": "38c85805",
   "metadata": {},
   "outputs": [],
   "source": [
    "import pandas as pd\n",
    "import matplotlib.pyplot as plt\n",
    "from sklearn.model_selection import cross_val_score, train_test_split, GridSearchCV\n",
    "from sklearn.pipeline import Pipeline\n",
    "from sklearn.naive_bayes import MultinomialNB\n",
    "from sklearn.linear_model import LogisticRegression\n",
    "from sklearn.metrics import confusion_matrix, plot_confusion_matrix, classification_report, precision_score\n",
    "from sklearn.ensemble import RandomForestClassifier, ExtraTreesClassifier\n",
    "\n",
    "from nltk.tokenize import sent_tokenize, word_tokenize, RegexpTokenizer\n",
    "from nltk.stem import WordNetLemmatizer\n",
    "from nltk.corpus import stopwords\n",
    "from nltk.stem.porter import PorterStemmer\n",
    "from sklearn.feature_extraction.text import CountVectorizer, TfidfVectorizer\n",
    "from sklearn import metrics\n",
    "\n",
    "import warnings\n",
    "warnings.filterwarnings('ignore')"
   ]
  },
  {
   "cell_type": "code",
   "execution_count": 2,
   "id": "02391d95",
   "metadata": {},
   "outputs": [],
   "source": [
    "reddit = pd.read_csv('../datasets/nike_adidas.csv')"
   ]
  },
  {
   "cell_type": "markdown",
   "id": "2e24183a",
   "metadata": {},
   "source": [
    "# 3.1 Preprocessing"
   ]
  },
  {
   "cell_type": "markdown",
   "id": "cdf20c17",
   "metadata": {},
   "source": [
    "## 3.1.1 Tokenize"
   ]
  },
  {
   "cell_type": "code",
   "execution_count": 3,
   "id": "bb16d113",
   "metadata": {},
   "outputs": [],
   "source": [
    "tokenizer = RegexpTokenizer('\\s+', gaps=True)"
   ]
  },
  {
   "cell_type": "code",
   "execution_count": 4,
   "id": "415a1535",
   "metadata": {},
   "outputs": [],
   "source": [
    "text_tokens = [tokenizer.tokenize(text.lower()) for text in (reddit['text'])]"
   ]
  },
  {
   "cell_type": "code",
   "execution_count": 5,
   "id": "8ce2e2a8",
   "metadata": {},
   "outputs": [],
   "source": [
    "reddit['text_tokens'] = pd.DataFrame(data=[text_tokens], index=['text_tokens']).T[['text_tokens']]"
   ]
  },
  {
   "cell_type": "code",
   "execution_count": 6,
   "id": "5d65aa91",
   "metadata": {},
   "outputs": [
    {
     "data": {
      "text/html": [
       "<div>\n",
       "<style scoped>\n",
       "    .dataframe tbody tr th:only-of-type {\n",
       "        vertical-align: middle;\n",
       "    }\n",
       "\n",
       "    .dataframe tbody tr th {\n",
       "        vertical-align: top;\n",
       "    }\n",
       "\n",
       "    .dataframe thead th {\n",
       "        text-align: right;\n",
       "    }\n",
       "</style>\n",
       "<table border=\"1\" class=\"dataframe\">\n",
       "  <thead>\n",
       "    <tr style=\"text-align: right;\">\n",
       "      <th></th>\n",
       "      <th>subreddit</th>\n",
       "      <th>text</th>\n",
       "      <th>text_tokens</th>\n",
       "    </tr>\n",
       "  </thead>\n",
       "  <tbody>\n",
       "    <tr>\n",
       "      <th>0</th>\n",
       "      <td>1</td>\n",
       "      <td>nike snkrs paypal error Im trying to login wit...</td>\n",
       "      <td>nike snkrs paypal error im trying to login wit...</td>\n",
       "    </tr>\n",
       "    <tr>\n",
       "      <th>1</th>\n",
       "      <td>1</td>\n",
       "      <td>Our local courier here in the Philippines lost...</td>\n",
       "      <td>our local courier here in the philippines lost...</td>\n",
       "    </tr>\n",
       "    <tr>\n",
       "      <th>2</th>\n",
       "      <td>1</td>\n",
       "      <td>What jacket is this? I know this is vintage an...</td>\n",
       "      <td>what jacket is this? i know this is vintage an...</td>\n",
       "    </tr>\n",
       "    <tr>\n",
       "      <th>3</th>\n",
       "      <td>1</td>\n",
       "      <td>Burned on the dunk drop today. So I’m just get...</td>\n",
       "      <td>burned on the dunk drop today. so i’m just get...</td>\n",
       "    </tr>\n",
       "    <tr>\n",
       "      <th>4</th>\n",
       "      <td>1</td>\n",
       "      <td>Is there anyway to restore the grip on a pair ...</td>\n",
       "      <td>is there anyway to restore the grip on a pair ...</td>\n",
       "    </tr>\n",
       "    <tr>\n",
       "      <th>...</th>\n",
       "      <td>...</td>\n",
       "      <td>...</td>\n",
       "      <td>...</td>\n",
       "    </tr>\n",
       "    <tr>\n",
       "      <th>9995</th>\n",
       "      <td>0</td>\n",
       "      <td>Ultraboost 22 vs 4DFWD2? Just what the title s...</td>\n",
       "      <td>ultraboost 22 vs 4dfwd2? just what the title s...</td>\n",
       "    </tr>\n",
       "    <tr>\n",
       "      <th>9996</th>\n",
       "      <td>0</td>\n",
       "      <td>No order confirmation So yesterday I won the y...</td>\n",
       "      <td>no order confirmation so yesterday i won the y...</td>\n",
       "    </tr>\n",
       "    <tr>\n",
       "      <th>9997</th>\n",
       "      <td>0</td>\n",
       "      <td>Im thinking about buying the firebird primeblu...</td>\n",
       "      <td>im thinking about buying the firebird primeblu...</td>\n",
       "    </tr>\n",
       "    <tr>\n",
       "      <th>9998</th>\n",
       "      <td>0</td>\n",
       "      <td>Adidas 4DFWD Long term review needed I’m think...</td>\n",
       "      <td>adidas 4dfwd long term review needed i’m think...</td>\n",
       "    </tr>\n",
       "    <tr>\n",
       "      <th>9999</th>\n",
       "      <td>0</td>\n",
       "      <td>Received a pair of Adidas Continental 80, FY 2...</td>\n",
       "      <td>received a pair of adidas continental 80, fy 2...</td>\n",
       "    </tr>\n",
       "  </tbody>\n",
       "</table>\n",
       "<p>10000 rows × 3 columns</p>\n",
       "</div>"
      ],
      "text/plain": [
       "      subreddit                                               text  \\\n",
       "0             1  nike snkrs paypal error Im trying to login wit...   \n",
       "1             1  Our local courier here in the Philippines lost...   \n",
       "2             1  What jacket is this? I know this is vintage an...   \n",
       "3             1  Burned on the dunk drop today. So I’m just get...   \n",
       "4             1  Is there anyway to restore the grip on a pair ...   \n",
       "...         ...                                                ...   \n",
       "9995          0  Ultraboost 22 vs 4DFWD2? Just what the title s...   \n",
       "9996          0  No order confirmation So yesterday I won the y...   \n",
       "9997          0  Im thinking about buying the firebird primeblu...   \n",
       "9998          0  Adidas 4DFWD Long term review needed I’m think...   \n",
       "9999          0  Received a pair of Adidas Continental 80, FY 2...   \n",
       "\n",
       "                                            text_tokens  \n",
       "0     nike snkrs paypal error im trying to login wit...  \n",
       "1     our local courier here in the philippines lost...  \n",
       "2     what jacket is this? i know this is vintage an...  \n",
       "3     burned on the dunk drop today. so i’m just get...  \n",
       "4     is there anyway to restore the grip on a pair ...  \n",
       "...                                                 ...  \n",
       "9995  ultraboost 22 vs 4dfwd2? just what the title s...  \n",
       "9996  no order confirmation so yesterday i won the y...  \n",
       "9997  im thinking about buying the firebird primeblu...  \n",
       "9998  adidas 4dfwd long term review needed i’m think...  \n",
       "9999  received a pair of adidas continental 80, fy 2...  \n",
       "\n",
       "[10000 rows x 3 columns]"
      ]
     },
     "execution_count": 6,
     "metadata": {},
     "output_type": "execute_result"
    }
   ],
   "source": [
    "reddit['text_tokens'] = reddit['text_tokens'].apply(lambda row: ' '.join(row))\n",
    "reddit"
   ]
  },
  {
   "cell_type": "markdown",
   "id": "c69921d5",
   "metadata": {},
   "source": [
    "## 3.1.2 Lemmatize"
   ]
  },
  {
   "cell_type": "code",
   "execution_count": 7,
   "id": "2a35020a",
   "metadata": {},
   "outputs": [],
   "source": [
    "lemmatizer = WordNetLemmatizer()"
   ]
  },
  {
   "cell_type": "code",
   "execution_count": 8,
   "id": "40529d4b",
   "metadata": {},
   "outputs": [],
   "source": [
    "lems = []\n",
    "for post in text_tokens:\n",
    "    tok_post = []\n",
    "    for word in post:\n",
    "        tok_post.append(lemmatizer.lemmatize(word))\n",
    "    posts = \" \".join(tok_post)\n",
    "    lems.append(posts)"
   ]
  },
  {
   "cell_type": "code",
   "execution_count": 9,
   "id": "1a88d1dc",
   "metadata": {},
   "outputs": [],
   "source": [
    "reddit['text_lem'] = lems"
   ]
  },
  {
   "cell_type": "markdown",
   "id": "c64f9e10",
   "metadata": {},
   "source": [
    "## 3.1.3 Stem"
   ]
  },
  {
   "cell_type": "code",
   "execution_count": 10,
   "id": "2ab8bc54",
   "metadata": {},
   "outputs": [],
   "source": [
    "p_stemmer = PorterStemmer()"
   ]
  },
  {
   "cell_type": "code",
   "execution_count": 11,
   "id": "c7769294",
   "metadata": {},
   "outputs": [],
   "source": [
    "stem = []\n",
    "for post in text_tokens:\n",
    "    tok_post = []\n",
    "    for word in post:\n",
    "        tok_post.append(p_stemmer.stem(word))\n",
    "    posts = \" \".join(tok_post)\n",
    "    stem.append(posts)"
   ]
  },
  {
   "cell_type": "markdown",
   "id": "fb2d8fb2",
   "metadata": {},
   "source": [
    "# 3.2 Baseline Model"
   ]
  },
  {
   "cell_type": "code",
   "execution_count": 45,
   "id": "5497a78c",
   "metadata": {},
   "outputs": [],
   "source": [
    "X = reddit['text_tokens']\n",
    "X2 = reddit['text_lem']\n",
    "X3 = reddit['text_stem']\n",
    "y = reddit['subreddit']"
   ]
  },
  {
   "cell_type": "code",
   "execution_count": 46,
   "id": "06dce29a",
   "metadata": {},
   "outputs": [],
   "source": [
    "X_train, X_test, y_train, y_test = train_test_split(X, y, test_size=0.33, stratify=y, random_state=42)"
   ]
  },
  {
   "cell_type": "code",
   "execution_count": 47,
   "id": "262be4dd",
   "metadata": {},
   "outputs": [],
   "source": [
    "X2_train, X2_test, y2_train, y2_test = train_test_split(X2, y, test_size=0.33, stratify=y, random_state=42)"
   ]
  },
  {
   "cell_type": "code",
   "execution_count": 48,
   "id": "8cbee623",
   "metadata": {},
   "outputs": [],
   "source": [
    "X3_train, X3_test, y3_train, y3_test = train_test_split(X3, y, test_size=0.33, stratify=y, random_state=42)"
   ]
  },
  {
   "cell_type": "markdown",
   "id": "939f3ba1",
   "metadata": {},
   "source": [
    "## 3.2.1 Count Vectorizer"
   ]
  },
  {
   "cell_type": "code",
   "execution_count": 49,
   "id": "258bf846",
   "metadata": {},
   "outputs": [],
   "source": [
    "cvec = CountVectorizer(stop_words = 'english')"
   ]
  },
  {
   "cell_type": "code",
   "execution_count": 50,
   "id": "774ff0b6",
   "metadata": {},
   "outputs": [],
   "source": [
    "cvec.fit(X_train)\n",
    "X_train_cvec = cvec.transform(X_train)\n",
    "X_test_cvec = cvec.transform(X_test)"
   ]
  },
  {
   "cell_type": "code",
   "execution_count": 57,
   "id": "b6ef0435",
   "metadata": {},
   "outputs": [
    {
     "data": {
      "text/plain": [
       "(6700, 1801)"
      ]
     },
     "execution_count": 57,
     "metadata": {},
     "output_type": "execute_result"
    }
   ],
   "source": [
    "X_train_cvec.shape"
   ]
  },
  {
   "cell_type": "code",
   "execution_count": 52,
   "id": "bc2c2f09",
   "metadata": {},
   "outputs": [],
   "source": [
    "cvec.fit(X2_train)\n",
    "X2_train_cvec = cvec.transform(X2_train)\n",
    "X2_test_cvec = cvec.transform(X2_test)"
   ]
  },
  {
   "cell_type": "code",
   "execution_count": 56,
   "id": "668459dd",
   "metadata": {},
   "outputs": [
    {
     "data": {
      "text/plain": [
       "(6700, 1735)"
      ]
     },
     "execution_count": 56,
     "metadata": {},
     "output_type": "execute_result"
    }
   ],
   "source": [
    "X2_train_cvec.shape"
   ]
  },
  {
   "cell_type": "code",
   "execution_count": 54,
   "id": "21043a9f",
   "metadata": {},
   "outputs": [],
   "source": [
    "cvec.fit(X3_train)\n",
    "X3_train_cvec = cvec.transform(X3_train)\n",
    "X3_test_cvec = cvec.transform(X3_test)"
   ]
  },
  {
   "cell_type": "code",
   "execution_count": 58,
   "id": "57fff6ac",
   "metadata": {},
   "outputs": [
    {
     "data": {
      "text/plain": [
       "(6700, 1691)"
      ]
     },
     "execution_count": 58,
     "metadata": {},
     "output_type": "execute_result"
    }
   ],
   "source": [
    "X3_train_cvec.shape"
   ]
  },
  {
   "cell_type": "markdown",
   "id": "722845ff",
   "metadata": {},
   "source": [
    "## 3.2.2 Naive Bayes"
   ]
  },
  {
   "cell_type": "markdown",
   "id": "4d02b3c8",
   "metadata": {},
   "source": [
    "### 3.2.2.1 Tokenized words"
   ]
  },
  {
   "cell_type": "code",
   "execution_count": 59,
   "id": "ade2175b",
   "metadata": {},
   "outputs": [],
   "source": [
    "nb = MultinomialNB()"
   ]
  },
  {
   "cell_type": "code",
   "execution_count": 60,
   "id": "29896bd8",
   "metadata": {},
   "outputs": [],
   "source": [
    "model = nb.fit(X_train_cvec, y_train)"
   ]
  },
  {
   "cell_type": "code",
   "execution_count": 61,
   "id": "286c4581",
   "metadata": {},
   "outputs": [],
   "source": [
    "predictions = model.predict(X_test_cvec)"
   ]
  },
  {
   "cell_type": "code",
   "execution_count": 62,
   "id": "31372dbe",
   "metadata": {},
   "outputs": [
    {
     "data": {
      "text/plain": [
       "0.9971641791044776"
      ]
     },
     "execution_count": 62,
     "metadata": {},
     "output_type": "execute_result"
    }
   ],
   "source": [
    "model.score(X_train_cvec, y_train)"
   ]
  },
  {
   "cell_type": "code",
   "execution_count": 63,
   "id": "2823d887",
   "metadata": {},
   "outputs": [
    {
     "data": {
      "text/plain": [
       "0.996969696969697"
      ]
     },
     "execution_count": 63,
     "metadata": {},
     "output_type": "execute_result"
    }
   ],
   "source": [
    "model.score(X_test_cvec, y_test)"
   ]
  },
  {
   "cell_type": "code",
   "execution_count": 65,
   "id": "502e1f5a",
   "metadata": {},
   "outputs": [
    {
     "data": {
      "text/plain": [
       "array([[1645,    5],\n",
       "       [   5, 1645]])"
      ]
     },
     "execution_count": 65,
     "metadata": {},
     "output_type": "execute_result"
    }
   ],
   "source": [
    "confusion_matrix(y_test, predictions)"
   ]
  },
  {
   "cell_type": "code",
   "execution_count": 66,
   "id": "104b792a",
   "metadata": {},
   "outputs": [],
   "source": [
    "tn, fp, fn, tp = confusion_matrix(y_test, predictions).ravel()"
   ]
  },
  {
   "cell_type": "code",
   "execution_count": 67,
   "id": "a7b9a947",
   "metadata": {},
   "outputs": [
    {
     "name": "stdout",
     "output_type": "stream",
     "text": [
      "True Negatives: 1645\n",
      "False Positives: 5\n",
      "False Negatives: 5\n",
      "True Positives: 1645\n"
     ]
    }
   ],
   "source": [
    "print(\"True Negatives: %s\" % tn)\n",
    "print(\"False Positives: %s\" % fp)\n",
    "print(\"False Negatives: %s\" % fn)\n",
    "print(\"True Positives: %s\" % tp)"
   ]
  },
  {
   "cell_type": "markdown",
   "id": "f2e211b3",
   "metadata": {},
   "source": [
    "### 3.2.2.2 Lemmatized words"
   ]
  },
  {
   "cell_type": "code",
   "execution_count": 77,
   "id": "9c393108",
   "metadata": {},
   "outputs": [],
   "source": [
    "model2 = nb.fit(X2_train_cvec, y2_train)"
   ]
  },
  {
   "cell_type": "code",
   "execution_count": 78,
   "id": "72059065",
   "metadata": {},
   "outputs": [],
   "source": [
    "predictions2 = model2.predict(X2_test_cvec)"
   ]
  },
  {
   "cell_type": "code",
   "execution_count": 79,
   "id": "fee5a45a",
   "metadata": {},
   "outputs": [
    {
     "data": {
      "text/plain": [
       "0.9983582089552239"
      ]
     },
     "execution_count": 79,
     "metadata": {},
     "output_type": "execute_result"
    }
   ],
   "source": [
    "model2.score(X2_train_cvec, y2_train)"
   ]
  },
  {
   "cell_type": "code",
   "execution_count": 80,
   "id": "df42ec81",
   "metadata": {},
   "outputs": [
    {
     "data": {
      "text/plain": [
       "0.996969696969697"
      ]
     },
     "execution_count": 80,
     "metadata": {},
     "output_type": "execute_result"
    }
   ],
   "source": [
    "model2.score(X2_test_cvec, y2_test)"
   ]
  },
  {
   "cell_type": "code",
   "execution_count": 99,
   "id": "ab01fdb9",
   "metadata": {},
   "outputs": [
    {
     "data": {
      "text/plain": [
       "array([[1644,    6],\n",
       "       [   4, 1646]])"
      ]
     },
     "execution_count": 99,
     "metadata": {},
     "output_type": "execute_result"
    }
   ],
   "source": [
    "confusion_matrix(y2_test, predictions2)"
   ]
  },
  {
   "cell_type": "code",
   "execution_count": 82,
   "id": "aa69b494",
   "metadata": {},
   "outputs": [],
   "source": [
    "tn2, fp2, fn2, tp2 = confusion_matrix(y2_test, predictions2).ravel()"
   ]
  },
  {
   "cell_type": "code",
   "execution_count": 83,
   "id": "bdf7070c",
   "metadata": {},
   "outputs": [
    {
     "name": "stdout",
     "output_type": "stream",
     "text": [
      "True Negatives: 1644\n",
      "False Positives: 6\n",
      "False Negatives: 4\n",
      "True Positives: 1646\n"
     ]
    }
   ],
   "source": [
    "print(\"True Negatives: %s\" % tn2)\n",
    "print(\"False Positives: %s\" % fp2)\n",
    "print(\"False Negatives: %s\" % fn2)\n",
    "print(\"True Positives: %s\" % tp2)"
   ]
  },
  {
   "cell_type": "markdown",
   "id": "9d90ac64",
   "metadata": {},
   "source": [
    "### 3.2.2.3 Stemmed words"
   ]
  },
  {
   "cell_type": "code",
   "execution_count": 118,
   "id": "26aded49",
   "metadata": {},
   "outputs": [],
   "source": [
    "model3 = nb.fit(X3_train_cvec, y3_train)"
   ]
  },
  {
   "cell_type": "code",
   "execution_count": 119,
   "id": "9987979d",
   "metadata": {},
   "outputs": [],
   "source": [
    "predictions3 = model3.predict(X3_test_cvec)"
   ]
  },
  {
   "cell_type": "code",
   "execution_count": 120,
   "id": "2be11417",
   "metadata": {},
   "outputs": [
    {
     "data": {
      "text/plain": [
       "0.9977611940298508"
      ]
     },
     "execution_count": 120,
     "metadata": {},
     "output_type": "execute_result"
    }
   ],
   "source": [
    "model3.score(X3_train_cvec, y3_train)"
   ]
  },
  {
   "cell_type": "code",
   "execution_count": 121,
   "id": "22d5b15c",
   "metadata": {},
   "outputs": [
    {
     "data": {
      "text/plain": [
       "0.9972727272727273"
      ]
     },
     "execution_count": 121,
     "metadata": {},
     "output_type": "execute_result"
    }
   ],
   "source": [
    "model3.score(X3_test_cvec, y3_test)"
   ]
  },
  {
   "cell_type": "code",
   "execution_count": 122,
   "id": "188f047c",
   "metadata": {},
   "outputs": [
    {
     "data": {
      "text/plain": [
       "array([[1646,    4],\n",
       "       [   5, 1645]])"
      ]
     },
     "execution_count": 122,
     "metadata": {},
     "output_type": "execute_result"
    }
   ],
   "source": [
    "confusion_matrix(y3_test, predictions3)"
   ]
  },
  {
   "cell_type": "code",
   "execution_count": 123,
   "id": "e8b15b7d",
   "metadata": {},
   "outputs": [],
   "source": [
    "tn3, fp3, fn3, tp3 = confusion_matrix(y3_test, predictions3).ravel()"
   ]
  },
  {
   "cell_type": "code",
   "execution_count": 124,
   "id": "4fc58cd1",
   "metadata": {},
   "outputs": [
    {
     "name": "stdout",
     "output_type": "stream",
     "text": [
      "True Negatives: 1646\n",
      "False Positives: 4\n",
      "False Negatives: 5\n",
      "True Positives: 1645\n"
     ]
    }
   ],
   "source": [
    "print(\"True Negatives: %s\" % tn3)\n",
    "print(\"False Positives: %s\" % fp3)\n",
    "print(\"False Negatives: %s\" % fn3)\n",
    "print(\"True Positives: %s\" % tp3)"
   ]
  },
  {
   "cell_type": "markdown",
   "id": "087ae8bd",
   "metadata": {},
   "source": [
    "#### Summary\n",
    "|Model|Vectorizer|Words|Train Score|Test Score|False Positive|False Negative|\n",
    "|----|----|----|----|----|----|----|\n",
    "|Naive Bayes|Count|Tokenize|0.9972|0.9970|5|5|\n",
    "|Naive Bayes|Count|Lemmatized|0.9984|0.9970|6|4|\n",
    "|Naive Bayes|Count|Stemmed|0.9978|0.9973|4|5|\n",
    "\n",
    "Our baseline model using Naive Bayes result in 99% of accurate prediction. The high score should result in each brand names are commonly found in their respective reddit, thus our model are not being properly train to identify other important words. Therefore, we will add brand names to the stopword. Stemmed word seems to have the least False Positive and False Negative. So we will use Stemmed for our baseline model."
   ]
  },
  {
   "cell_type": "markdown",
   "id": "f189fea9",
   "metadata": {},
   "source": [
    "## 3.2.3 Stopwords"
   ]
  },
  {
   "cell_type": "code",
   "execution_count": 104,
   "id": "44c8db28",
   "metadata": {},
   "outputs": [],
   "source": [
    "stop_words = set(stopwords.words(\"english\"))\n",
    "\n",
    "#add words that aren't in the NLTK stopwords list\n",
    "new_stopwords = ['nike','adidas']\n",
    "new_stopwords_list = stop_words.union(new_stopwords)"
   ]
  },
  {
   "cell_type": "code",
   "execution_count": 166,
   "id": "3ffd2ff8",
   "metadata": {},
   "outputs": [],
   "source": [
    "stopwords_list = stopwords.words('english')\n",
    "\n",
    "# From the EDA, I concluded that the following words were very common \n",
    "# in both /r/Jokes and /r/AntiJokes and were added noise. \n",
    "# I added these words to the nltk stop words\n",
    "stopwords_list.extend(['nike','adidas'])\n"
   ]
  },
  {
   "cell_type": "markdown",
   "id": "011215dc",
   "metadata": {},
   "source": [
    "## 3.2.4 Naive Bayes 2"
   ]
  },
  {
   "cell_type": "code",
   "execution_count": 167,
   "id": "82c450e6",
   "metadata": {},
   "outputs": [],
   "source": [
    "cvec2 = CountVectorizer(stop_words = stopwords_list)"
   ]
  },
  {
   "cell_type": "code",
   "execution_count": 168,
   "id": "d1db6251",
   "metadata": {},
   "outputs": [],
   "source": [
    "cvec2.fit(X3_train)\n",
    "X3_train_cvec2 = cvec2.transform(X3_train)\n",
    "X3_test_cvec2 = cvec2.transform(X3_test)"
   ]
  },
  {
   "cell_type": "code",
   "execution_count": 169,
   "id": "d811d3db",
   "metadata": {},
   "outputs": [
    {
     "data": {
      "text/plain": [
       "(6700, 1765)"
      ]
     },
     "execution_count": 169,
     "metadata": {},
     "output_type": "execute_result"
    }
   ],
   "source": [
    "X3_train_cvec2.shape"
   ]
  },
  {
   "cell_type": "code",
   "execution_count": 170,
   "id": "4eb7cb46",
   "metadata": {},
   "outputs": [],
   "source": [
    "model4 = nb.fit(X3_train_cvec2, y3_train)"
   ]
  },
  {
   "cell_type": "code",
   "execution_count": 171,
   "id": "4e8751f0",
   "metadata": {},
   "outputs": [],
   "source": [
    "predictions4 = model4.predict(X3_test_cvec2)"
   ]
  },
  {
   "cell_type": "code",
   "execution_count": 172,
   "id": "853d23f2",
   "metadata": {},
   "outputs": [
    {
     "data": {
      "text/plain": [
       "0.9973134328358209"
      ]
     },
     "execution_count": 172,
     "metadata": {},
     "output_type": "execute_result"
    }
   ],
   "source": [
    "model4.score(X3_train_cvec2, y3_train)"
   ]
  },
  {
   "cell_type": "code",
   "execution_count": 173,
   "id": "7f5f5647",
   "metadata": {},
   "outputs": [
    {
     "data": {
      "text/plain": [
       "0.9966666666666667"
      ]
     },
     "execution_count": 173,
     "metadata": {},
     "output_type": "execute_result"
    }
   ],
   "source": [
    "model4.score(X3_test_cvec2, y3_test)"
   ]
  },
  {
   "cell_type": "code",
   "execution_count": 174,
   "id": "af6e3986",
   "metadata": {},
   "outputs": [
    {
     "data": {
      "text/plain": [
       "array([[1646,    4],\n",
       "       [   7, 1643]])"
      ]
     },
     "execution_count": 174,
     "metadata": {},
     "output_type": "execute_result"
    }
   ],
   "source": [
    "confusion_matrix(y3_test, predictions4)"
   ]
  },
  {
   "cell_type": "code",
   "execution_count": 175,
   "id": "603aa482",
   "metadata": {},
   "outputs": [],
   "source": [
    "tn4, fp4, fn4, tp4 = confusion_matrix(y3_test, predictions4).ravel()"
   ]
  },
  {
   "cell_type": "code",
   "execution_count": 176,
   "id": "1804ea99",
   "metadata": {},
   "outputs": [
    {
     "name": "stdout",
     "output_type": "stream",
     "text": [
      "True Negatives: 1646\n",
      "False Positives: 4\n",
      "False Negatives: 7\n",
      "True Positives: 1643\n"
     ]
    }
   ],
   "source": [
    "print(\"True Negatives: %s\" % tn4)\n",
    "print(\"False Positives: %s\" % fp4)\n",
    "print(\"False Negatives: %s\" % fn4)\n",
    "print(\"True Positives: %s\" % tp4)"
   ]
  },
  {
   "cell_type": "code",
   "execution_count": 302,
   "id": "076bd636",
   "metadata": {},
   "outputs": [
    {
     "data": {
      "image/png": "[encoded data removed]",
      "text/plain": [
       "<Figure size 432x288 with 2 Axes>"
      ]
     },
     "metadata": {
      "needs_background": "light"
     },
     "output_type": "display_data"
    }
   ],
   "source": [
    "plot_confusion_matrix(model4, X3_test_cvec2, y3_test, cmap='Blues', values_format='d');"
   ]
  },
  {
   "cell_type": "code",
   "execution_count": 320,
   "id": "38532ece",
   "metadata": {},
   "outputs": [
    {
     "data": {
      "text/plain": [
       "0.9975713418336369"
      ]
     },
     "execution_count": 320,
     "metadata": {},
     "output_type": "execute_result"
    }
   ],
   "source": [
    "precision_score(y3_test, model4.predict(X3_test_cvec2))"
   ]
  },
  {
   "cell_type": "markdown",
   "id": "b17567d1",
   "metadata": {},
   "source": [
    "#### Final Baseline Model\n",
    "\n",
    "|Model|Vectorizer|Words|Train Score|Test Score|False Positive|False Negative|\n",
    "|----|----|----|----|----|----|----|\n",
    "|Naive Bayes|Count|Stemmed|0.9978|0.9973|4|5|\n",
    "|Naive Bayes|Count|Stemmed - Stopwords|0.9973|0.9967|4|7|\n",
    "\n",
    "Seems like after adding 'nike' and 'adidas' as stop word it did not affect the performance of the model. Thus we can strongly believe that both reddit does not have alot of words that coincide. There is also slight overfitting, but we will try to adjust that in our model tuning portion."
   ]
  },
  {
   "cell_type": "markdown",
   "id": "3db9cac0",
   "metadata": {},
   "source": [
    "# 3.3 Model Tuning\n",
    "## 3.3.1 Naive Bayes with TF-IDF"
   ]
  },
  {
   "cell_type": "code",
   "execution_count": 186,
   "id": "6e36bc4d",
   "metadata": {},
   "outputs": [],
   "source": [
    "pipe_tvec = Pipeline([\n",
    "    ('tvec', TfidfVectorizer(stop_words = stopwords_list)),\n",
    "    ('nb', MultinomialNB())\n",
    "])"
   ]
  },
  {
   "cell_type": "code",
   "execution_count": 201,
   "id": "174c2484",
   "metadata": {},
   "outputs": [],
   "source": [
    "pipe_tvec_params = {\n",
    "    'tvec__max_features': [2_000, 3_000, 4_000, 5_000],\n",
    "    'tvec__ngram_range': [(1,1), (1,2), (2,2)]\n",
    "}"
   ]
  },
  {
   "cell_type": "code",
   "execution_count": 202,
   "id": "c8ce6a4e",
   "metadata": {},
   "outputs": [],
   "source": [
    "gs_tvec = GridSearchCV(pipe_tvec,\n",
    "                        param_grid = pipe_tvec_params, \n",
    "                        cv=5)"
   ]
  },
  {
   "cell_type": "code",
   "execution_count": 203,
   "id": "5a77306b",
   "metadata": {
    "scrolled": false
   },
   "outputs": [
    {
     "data": {
      "text/plain": [
       "GridSearchCV(cv=5,\n",
       "             estimator=Pipeline(steps=[('tvec',\n",
       "                                        TfidfVectorizer(stop_words=['i', 'me',\n",
       "                                                                    'my',\n",
       "                                                                    'myself',\n",
       "                                                                    'we', 'our',\n",
       "                                                                    'ours',\n",
       "                                                                    'ourselves',\n",
       "                                                                    'you',\n",
       "                                                                    \"you're\",\n",
       "                                                                    \"you've\",\n",
       "                                                                    \"you'll\",\n",
       "                                                                    \"you'd\",\n",
       "                                                                    'your',\n",
       "                                                                    'yours',\n",
       "                                                                    'yourself',\n",
       "                                                                    'yourselves',\n",
       "                                                                    'he', 'him',\n",
       "                                                                    'his',\n",
       "                                                                    'himself',\n",
       "                                                                    'she',\n",
       "                                                                    \"she's\",\n",
       "                                                                    'her',\n",
       "                                                                    'hers',\n",
       "                                                                    'herself',\n",
       "                                                                    'it',\n",
       "                                                                    \"it's\",\n",
       "                                                                    'its',\n",
       "                                                                    'itself', ...])),\n",
       "                                       ('nb', MultinomialNB())]),\n",
       "             param_grid={'tvec__max_features': [2000, 3000, 4000, 5000, 6000],\n",
       "                         'tvec__ngram_range': [(1, 1), (1, 2), (2, 2)]})"
      ]
     },
     "execution_count": 203,
     "metadata": {},
     "output_type": "execute_result"
    }
   ],
   "source": [
    "gs_tvec.fit(X3_train, y3_train)"
   ]
  },
  {
   "cell_type": "code",
   "execution_count": 204,
   "id": "5f1f5b08",
   "metadata": {},
   "outputs": [
    {
     "name": "stdout",
     "output_type": "stream",
     "text": [
      "0.9956716417910447\n"
     ]
    },
    {
     "data": {
      "text/plain": [
       "{'tvec__max_features': 5000, 'tvec__ngram_range': (1, 2)}"
      ]
     },
     "execution_count": 204,
     "metadata": {},
     "output_type": "execute_result"
    }
   ],
   "source": [
    "print(gs_tvec.best_score_)\n",
    "gs_tvec.best_params_"
   ]
  },
  {
   "cell_type": "code",
   "execution_count": 205,
   "id": "3081ebff",
   "metadata": {},
   "outputs": [
    {
     "data": {
      "text/plain": [
       "0.9968656716417911"
      ]
     },
     "execution_count": 205,
     "metadata": {},
     "output_type": "execute_result"
    }
   ],
   "source": [
    "gs_tvec.score(X3_train, y3_train)"
   ]
  },
  {
   "cell_type": "code",
   "execution_count": 206,
   "id": "cc631e52",
   "metadata": {},
   "outputs": [
    {
     "data": {
      "text/plain": [
       "0.996969696969697"
      ]
     },
     "execution_count": 206,
     "metadata": {},
     "output_type": "execute_result"
    }
   ],
   "source": [
    "gs_tvec.score(X3_test, y3_test)"
   ]
  },
  {
   "cell_type": "code",
   "execution_count": 207,
   "id": "c823df5a",
   "metadata": {},
   "outputs": [],
   "source": [
    "preds_tvec = gs_tvec.predict(X3_test)"
   ]
  },
  {
   "cell_type": "code",
   "execution_count": 208,
   "id": "63f7665e",
   "metadata": {},
   "outputs": [
    {
     "data": {
      "text/plain": [
       "array([[1647,    3],\n",
       "       [   7, 1643]])"
      ]
     },
     "execution_count": 208,
     "metadata": {},
     "output_type": "execute_result"
    }
   ],
   "source": [
    "confusion_matrix(y3_test, preds_tvec)"
   ]
  },
  {
   "cell_type": "code",
   "execution_count": 209,
   "id": "be34209b",
   "metadata": {},
   "outputs": [],
   "source": [
    "tn5, fp5, fn5, tp5 = confusion_matrix(y3_test, preds_tvec).ravel()"
   ]
  },
  {
   "cell_type": "code",
   "execution_count": 243,
   "id": "606519f9",
   "metadata": {},
   "outputs": [
    {
     "name": "stdout",
     "output_type": "stream",
     "text": [
      "True Negatives: 1647\n",
      "False Positives: 3\n",
      "False Negatives: 7\n",
      "True Positives: 1643\n"
     ]
    }
   ],
   "source": [
    "print(\"True Negatives: %s\" % tn5)\n",
    "print(\"False Positives: %s\" % fp5)\n",
    "print(\"False Negatives: %s\" % fn5)\n",
    "print(\"True Positives: %s\" % tp5)"
   ]
  },
  {
   "cell_type": "code",
   "execution_count": 210,
   "id": "4ccc39f0",
   "metadata": {},
   "outputs": [
    {
     "data": {
      "image/png": "[encoded data removed]",
      "text/plain": [
       "<Figure size 432x288 with 2 Axes>"
      ]
     },
     "metadata": {
      "needs_background": "light"
     },
     "output_type": "display_data"
    }
   ],
   "source": [
    "plot_confusion_matrix(gs_tvec, X3_test, y3_test, cmap='Blues', values_format='d');"
   ]
  },
  {
   "cell_type": "code",
   "execution_count": 300,
   "id": "7c3e74bb",
   "metadata": {},
   "outputs": [
    {
     "data": {
      "text/plain": [
       "0.9981773997569866"
      ]
     },
     "execution_count": 300,
     "metadata": {},
     "output_type": "execute_result"
    }
   ],
   "source": [
    "precision_score(y3_test, gs_tvec.predict(X3_test))"
   ]
  },
  {
   "cell_type": "markdown",
   "id": "a197f700",
   "metadata": {},
   "source": [
    "#### Result after Changing to TF-IDF Vectorizer\n",
    "\n",
    "|Model|Vectorizer|Train Score|Test Score|Precision|False Positive|False Negative|\n",
    "|----|----|----|----|----|----|----|\n",
    "|Naive Bayes|Count|0.9973|0.9967|0.9976|4|7|\n",
    "|Naive Bayes|TF-IDF|0.9969|0.9970|0.9982|3|7|\n",
    "\n",
    "We can see that there is a slight improvement in Specificity (higher number of TN predicted). Our goal is to minimise false positive (Precision). Notice that the overfitting issue is solved after changing from Count Vectorizer to TF-IDF Vectorizer. "
   ]
  },
  {
   "cell_type": "code",
   "execution_count": null,
   "id": "f5c6aca4",
   "metadata": {},
   "outputs": [],
   "source": []
  },
  {
   "cell_type": "markdown",
   "id": "b0e8f778",
   "metadata": {},
   "source": [
    "## 3.3.2 Random Forest"
   ]
  },
  {
   "cell_type": "code",
   "execution_count": 228,
   "id": "214900f6",
   "metadata": {},
   "outputs": [],
   "source": [
    "pipe_rf = Pipeline([\n",
    "    ('tvec', TfidfVectorizer(stop_words = stopwords_list)),\n",
    "    ('rf', RandomForestClassifier())\n",
    "])"
   ]
  },
  {
   "cell_type": "code",
   "execution_count": 260,
   "id": "9cf6538a",
   "metadata": {},
   "outputs": [],
   "source": [
    "pipe_rf_params = {\n",
    "    'tvec__max_features': [2_000, 3_000],\n",
    "    'tvec__ngram_range': [(1,1), (1,2)],\n",
    "    'rf__n_estimators': [100, 200],\n",
    "    'rf__max_depth': [None, 1, 2],\n",
    "    \"rf__min_samples_split\": [None, 2, 4], \n",
    "    \"rf__min_samples_leaf\": [None, 1, 2]\n",
    "}"
   ]
  },
  {
   "cell_type": "code",
   "execution_count": 261,
   "id": "86d80539",
   "metadata": {},
   "outputs": [],
   "source": [
    "gs_rf = GridSearchCV(pipe_rf,\n",
    "                     param_grid = pipe_rf_params, \n",
    "                     cv=5)"
   ]
  },
  {
   "cell_type": "code",
   "execution_count": 262,
   "id": "d6c91908",
   "metadata": {},
   "outputs": [
    {
     "data": {
      "text/plain": [
       "GridSearchCV(cv=5,\n",
       "             estimator=Pipeline(steps=[('tvec',\n",
       "                                        TfidfVectorizer(stop_words=['i', 'me',\n",
       "                                                                    'my',\n",
       "                                                                    'myself',\n",
       "                                                                    'we', 'our',\n",
       "                                                                    'ours',\n",
       "                                                                    'ourselves',\n",
       "                                                                    'you',\n",
       "                                                                    \"you're\",\n",
       "                                                                    \"you've\",\n",
       "                                                                    \"you'll\",\n",
       "                                                                    \"you'd\",\n",
       "                                                                    'your',\n",
       "                                                                    'yours',\n",
       "                                                                    'yourself',\n",
       "                                                                    'yourselves',\n",
       "                                                                    'he', 'him',\n",
       "                                                                    'his',\n",
       "                                                                    'himself',\n",
       "                                                                    'she',\n",
       "                                                                    \"she's\",\n",
       "                                                                    'her',\n",
       "                                                                    'hers',\n",
       "                                                                    'herself',\n",
       "                                                                    'it',\n",
       "                                                                    \"it's\",\n",
       "                                                                    'its',\n",
       "                                                                    'itself', ...])),\n",
       "                                       ('rf', RandomForestClassifier())]),\n",
       "             param_grid={'rf__max_depth': [None, 1, 2],\n",
       "                         'rf__min_samples_leaf': [None, 1, 2],\n",
       "                         'rf__min_samples_split': [None, 2, 4],\n",
       "                         'rf__n_estimators': [100, 200],\n",
       "                         'tvec__max_features': [2000, 3000],\n",
       "                         'tvec__ngram_range': [(1, 1), (1, 2)]})"
      ]
     },
     "execution_count": 262,
     "metadata": {},
     "output_type": "execute_result"
    }
   ],
   "source": [
    "gs_rf.fit(X3_train, y3_train)"
   ]
  },
  {
   "cell_type": "code",
   "execution_count": 263,
   "id": "93bf15f3",
   "metadata": {},
   "outputs": [
    {
     "name": "stdout",
     "output_type": "stream",
     "text": [
      "0.9965671641791045\n"
     ]
    },
    {
     "data": {
      "text/plain": [
       "{'rf__max_depth': None,\n",
       " 'rf__min_samples_leaf': 1,\n",
       " 'rf__min_samples_split': 4,\n",
       " 'rf__n_estimators': 200,\n",
       " 'tvec__max_features': 2000,\n",
       " 'tvec__ngram_range': (1, 1)}"
      ]
     },
     "execution_count": 263,
     "metadata": {},
     "output_type": "execute_result"
    }
   ],
   "source": [
    "print(gs_rf.best_score_)\n",
    "gs_rf.best_params_"
   ]
  },
  {
   "cell_type": "code",
   "execution_count": 264,
   "id": "615502be",
   "metadata": {},
   "outputs": [
    {
     "data": {
      "text/plain": [
       "1.0"
      ]
     },
     "execution_count": 264,
     "metadata": {},
     "output_type": "execute_result"
    }
   ],
   "source": [
    "gs_rf.score(X3_train, y3_train)"
   ]
  },
  {
   "cell_type": "code",
   "execution_count": 265,
   "id": "16e008e0",
   "metadata": {},
   "outputs": [
    {
     "data": {
      "text/plain": [
       "0.9963636363636363"
      ]
     },
     "execution_count": 265,
     "metadata": {},
     "output_type": "execute_result"
    }
   ],
   "source": [
    "gs_rf.score(X3_test, y3_test)"
   ]
  },
  {
   "cell_type": "code",
   "execution_count": 266,
   "id": "26acc0a0",
   "metadata": {},
   "outputs": [],
   "source": [
    "preds_rf = gs_rf.predict(X3_test)"
   ]
  },
  {
   "cell_type": "code",
   "execution_count": 267,
   "id": "1cb9e2b4",
   "metadata": {},
   "outputs": [
    {
     "data": {
      "text/plain": [
       "array([[1644,    6],\n",
       "       [   6, 1644]])"
      ]
     },
     "execution_count": 267,
     "metadata": {},
     "output_type": "execute_result"
    }
   ],
   "source": [
    "confusion_matrix(y3_test, preds_rf)"
   ]
  },
  {
   "cell_type": "code",
   "execution_count": 268,
   "id": "a93bc704",
   "metadata": {},
   "outputs": [],
   "source": [
    "tn6, fp6, fn6, tp6 = confusion_matrix(y3_test, preds_rf).ravel()"
   ]
  },
  {
   "cell_type": "code",
   "execution_count": 269,
   "id": "8df0624f",
   "metadata": {},
   "outputs": [
    {
     "name": "stdout",
     "output_type": "stream",
     "text": [
      "True Negatives: 1644\n",
      "False Positives: 6\n",
      "False Negatives: 6\n",
      "True Positives: 1644\n"
     ]
    }
   ],
   "source": [
    "print(\"True Negatives: %s\" % tn6)\n",
    "print(\"False Positives: %s\" % fp6)\n",
    "print(\"False Negatives: %s\" % fn6)\n",
    "print(\"True Positives: %s\" % tp6)"
   ]
  },
  {
   "cell_type": "code",
   "execution_count": 270,
   "id": "3bbab876",
   "metadata": {},
   "outputs": [
    {
     "data": {
      "image/png": "[encoded data removed]",
      "text/plain": [
       "<Figure size 432x288 with 2 Axes>"
      ]
     },
     "metadata": {
      "needs_background": "light"
     },
     "output_type": "display_data"
    }
   ],
   "source": [
    "plot_confusion_matrix(gs_rf, X3_test, y3_test, cmap='Blues', values_format='d');"
   ]
  },
  {
   "cell_type": "code",
   "execution_count": 319,
   "id": "e10bbd91",
   "metadata": {},
   "outputs": [
    {
     "data": {
      "text/plain": [
       "0.9963636363636363"
      ]
     },
     "execution_count": 319,
     "metadata": {},
     "output_type": "execute_result"
    }
   ],
   "source": [
    "precision_score(y3_test, gs_rf.predict(X3_test))"
   ]
  },
  {
   "cell_type": "markdown",
   "id": "c243e2e2",
   "metadata": {},
   "source": [
    "#### Random Forest Result\n",
    "\n",
    "|Model|Vectorizer|Train Score|Test Score|Precision|False Positive|False Negative|\n",
    "|----|----|----|----|----|----|----|\n",
    "|Naive Bayes|Count|0.9973|0.9967|0.9976|4|7|\n",
    "|Naive Bayes|TF-IDF|0.9969|0.9970|0.9982|3|7|\n",
    "|Random Forest|TF-IDF|1.0|0.9964|0.9964|6|6|\n",
    "\n",
    "We can see that it is overfitted but able to predict 1 more TP using this model. Naive Bayes with TF-IDF vectorizer \n",
    "seems to be a more balance model and it's not overfitted. It also has the lowest number of False Positive, which is our deciding factor."
   ]
  },
  {
   "cell_type": "markdown",
   "id": "27420c03",
   "metadata": {},
   "source": [
    "# 3.4 Conclusion and Recommendation\n"
   ]
  },
  {
   "cell_type": "markdown",
   "id": "d0e738ea",
   "metadata": {},
   "source": [
    "#### Conclusion\n",
    "We notice that there isn't a huge difference change from the baseline model, as it has a high test score to begin with. Despite the high baseline score, we did manage fix overfitting issue and notice slight improvement in accuracy using Naive Bayes with TF-IDF vectorizer. Testing with Random Forest Classifier did not improve test score nor accuracy.\n",
    "\n",
    "Throughout this project we are able to address some of the issues mention in the problem statement:\n",
    "- understand current consumer response/comments: number of posts made in the span of 12 days and who are the top authors\n",
    "- find out if the merchandise they had planned that would have high demand are accurate based on consumers comments: notice some product names and colour in most common words analysis\n",
    "- understand current competitor trend: Similarly, we notice there are product name mention in adidas common word, which can help with future season merchandise planning\n",
    "- dynamic/scalable solution: able to select collect data when needed, thou date selection might be a bit tricky and will need more fine tuning in the future \n",
    "- differentiate Nike posts from competitor posts using a classification model: Precision score for Naive Bayes model with TF-IDF is 0.9981773997569866. This shows that our model can accurately classify Nike from Adidas.\n",
    "\n"
   ]
  },
  {
   "cell_type": "markdown",
   "id": "ec16edc8",
   "metadata": {},
   "source": [
    "#### Recommendation\n",
    "- Sentiment Analysis : Should focus on improving sentiment before launching brand campaigns on r/Nike\n",
    "- Utilise popular bigram/trigrams : Can be used to determine which product lines are in-demand for campaigns\n",
    "- Improve generalizability of classifier: Train classifier on other online forums for more generalizable results across online demographics\n"
   ]
  },
  {
   "cell_type": "code",
   "execution_count": null,
   "id": "9d65e548",
   "metadata": {},
   "outputs": [],
   "source": []
  }
 ],
 "metadata": {
  "kernelspec": {
   "display_name": "Python 3 (ipykernel)",
   "language": "python",
   "name": "python3"
  },
  "language_info": {
   "codemirror_mode": {
    "name": "ipython",
    "version": 3
   },
   "file_extension": ".py",
   "mimetype": "text/x-python",
   "name": "python",
   "nbconvert_exporter": "python",
   "pygments_lexer": "ipython3",
   "version": "3.9.7"
  }
 },
 "nbformat": 4,
 "nbformat_minor": 5
}
