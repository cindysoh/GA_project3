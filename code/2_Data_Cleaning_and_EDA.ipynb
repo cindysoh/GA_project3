{
 "cells": [
  {
   "cell_type": "code",
   "execution_count": 2,
   "id": "bbba4b73",
   "metadata": {},
   "outputs": [],
   "source": [
    "import matplotlib.pyplot as plt\n",
    "import pandas as pd\n",
    "import numpy as np\n",
    "import seaborn as sns\n",
    "import regex as re\n",
    "\n",
    "import warnings\n",
    "warnings.filterwarnings('ignore')\n",
    "\n",
    "from sklearn.feature_extraction.text import CountVectorizer, TfidfVectorizer\n",
    "\n",
    "from nltk.tokenize import sent_tokenize, word_tokenize, RegexpTokenizer\n",
    "from nltk.stem import WordNetLemmatizer\n",
    "from nltk.stem.porter import PorterStemmer\n",
    "from nltk.corpus import stopwords\n",
    "from nltk.sentiment.vader import SentimentIntensityAnalyzer\n",
    "import re"
   ]
  },
  {
   "cell_type": "code",
   "execution_count": 3,
   "id": "878f05ab",
   "metadata": {},
   "outputs": [],
   "source": [
    "nike = pd.read_csv('../datasets/nike.csv')\n",
    "adidas = pd.read_csv('../datasets/adidas.csv')"
   ]
  },
  {
   "cell_type": "markdown",
   "id": "937b4396",
   "metadata": {},
   "source": [
    "# Data Cleaning"
   ]
  },
  {
   "cell_type": "markdown",
   "id": "2c233d78",
   "metadata": {},
   "source": [
    "## Nike\n",
    "### Null values"
   ]
  },
  {
   "cell_type": "code",
   "execution_count": 4,
   "id": "b296b366",
   "metadata": {},
   "outputs": [
    {
     "data": {
      "text/html": [
       "<div>\n",
       "<style scoped>\n",
       "    .dataframe tbody tr th:only-of-type {\n",
       "        vertical-align: middle;\n",
       "    }\n",
       "\n",
       "    .dataframe tbody tr th {\n",
       "        vertical-align: top;\n",
       "    }\n",
       "\n",
       "    .dataframe thead th {\n",
       "        text-align: right;\n",
       "    }\n",
       "</style>\n",
       "<table border=\"1\" class=\"dataframe\">\n",
       "  <thead>\n",
       "    <tr style=\"text-align: right;\">\n",
       "      <th></th>\n",
       "      <th>author</th>\n",
       "      <th>subreddit</th>\n",
       "      <th>selftext</th>\n",
       "      <th>title</th>\n",
       "      <th>created_utc</th>\n",
       "    </tr>\n",
       "  </thead>\n",
       "  <tbody>\n",
       "    <tr>\n",
       "      <th>1</th>\n",
       "      <td>Alone_Painter_7326</td>\n",
       "      <td>Nike</td>\n",
       "      <td>NaN</td>\n",
       "      <td>Our local courier here in the Philippines lost...</td>\n",
       "      <td>1668060481</td>\n",
       "    </tr>\n",
       "    <tr>\n",
       "      <th>2</th>\n",
       "      <td>CumMilkshake69</td>\n",
       "      <td>Nike</td>\n",
       "      <td>NaN</td>\n",
       "      <td>What jacket is this? I know this is vintage an...</td>\n",
       "      <td>1668048611</td>\n",
       "    </tr>\n",
       "    <tr>\n",
       "      <th>6</th>\n",
       "      <td>SpecialJellyfish3331</td>\n",
       "      <td>Nike</td>\n",
       "      <td>NaN</td>\n",
       "      <td>what nike pants ar those what is the name of t...</td>\n",
       "      <td>1668007054</td>\n",
       "    </tr>\n",
       "    <tr>\n",
       "      <th>7</th>\n",
       "      <td>mikako_Kiyoko</td>\n",
       "      <td>Nike</td>\n",
       "      <td>NaN</td>\n",
       "      <td>can someone explain why my uv shoes stop worki...</td>\n",
       "      <td>1668006698</td>\n",
       "    </tr>\n",
       "    <tr>\n",
       "      <th>10</th>\n",
       "      <td>jpsmoothh</td>\n",
       "      <td>Nike</td>\n",
       "      <td>NaN</td>\n",
       "      <td>very clean concept, meaning, and details but v...</td>\n",
       "      <td>1668001699</td>\n",
       "    </tr>\n",
       "    <tr>\n",
       "      <th>...</th>\n",
       "      <td>...</td>\n",
       "      <td>...</td>\n",
       "      <td>...</td>\n",
       "      <td>...</td>\n",
       "      <td>...</td>\n",
       "    </tr>\n",
       "    <tr>\n",
       "      <th>4992</th>\n",
       "      <td>_bono983</td>\n",
       "      <td>Nike</td>\n",
       "      <td>NaN</td>\n",
       "      <td>New slogan: Come Run With Us. Do you like it b...</td>\n",
       "      <td>1667193198</td>\n",
       "    </tr>\n",
       "    <tr>\n",
       "      <th>4993</th>\n",
       "      <td>Foreign_Rent_2411</td>\n",
       "      <td>Nike</td>\n",
       "      <td>NaN</td>\n",
       "      <td>Nike poster I made a while back , if you like ...</td>\n",
       "      <td>1667176551</td>\n",
       "    </tr>\n",
       "    <tr>\n",
       "      <th>4995</th>\n",
       "      <td>TONYFAWNTANAA</td>\n",
       "      <td>Nike</td>\n",
       "      <td>NaN</td>\n",
       "      <td>Hello everyone, cam you please subscribe to my...</td>\n",
       "      <td>1667170337</td>\n",
       "    </tr>\n",
       "    <tr>\n",
       "      <th>4997</th>\n",
       "      <td>KanniPro</td>\n",
       "      <td>Nike</td>\n",
       "      <td>NaN</td>\n",
       "      <td>Please give suggestions :) I know nothing abou...</td>\n",
       "      <td>1667140982</td>\n",
       "    </tr>\n",
       "    <tr>\n",
       "      <th>4999</th>\n",
       "      <td>Extroe</td>\n",
       "      <td>Nike</td>\n",
       "      <td>NaN</td>\n",
       "      <td>How do u get reflective lace loops on 95s and ...</td>\n",
       "      <td>1667139981</td>\n",
       "    </tr>\n",
       "  </tbody>\n",
       "</table>\n",
       "<p>3091 rows × 5 columns</p>\n",
       "</div>"
      ],
      "text/plain": [
       "                    author subreddit selftext  \\\n",
       "1       Alone_Painter_7326      Nike      NaN   \n",
       "2           CumMilkshake69      Nike      NaN   \n",
       "6     SpecialJellyfish3331      Nike      NaN   \n",
       "7            mikako_Kiyoko      Nike      NaN   \n",
       "10               jpsmoothh      Nike      NaN   \n",
       "...                    ...       ...      ...   \n",
       "4992              _bono983      Nike      NaN   \n",
       "4993     Foreign_Rent_2411      Nike      NaN   \n",
       "4995         TONYFAWNTANAA      Nike      NaN   \n",
       "4997              KanniPro      Nike      NaN   \n",
       "4999                Extroe      Nike      NaN   \n",
       "\n",
       "                                                  title  created_utc  \n",
       "1     Our local courier here in the Philippines lost...   1668060481  \n",
       "2     What jacket is this? I know this is vintage an...   1668048611  \n",
       "6     what nike pants ar those what is the name of t...   1668007054  \n",
       "7     can someone explain why my uv shoes stop worki...   1668006698  \n",
       "10    very clean concept, meaning, and details but v...   1668001699  \n",
       "...                                                 ...          ...  \n",
       "4992  New slogan: Come Run With Us. Do you like it b...   1667193198  \n",
       "4993  Nike poster I made a while back , if you like ...   1667176551  \n",
       "4995  Hello everyone, cam you please subscribe to my...   1667170337  \n",
       "4997  Please give suggestions :) I know nothing abou...   1667140982  \n",
       "4999  How do u get reflective lace loops on 95s and ...   1667139981  \n",
       "\n",
       "[3091 rows x 5 columns]"
      ]
     },
     "execution_count": 4,
     "metadata": {},
     "output_type": "execute_result"
    }
   ],
   "source": [
    "nike[nike.selftext.isnull()==True]"
   ]
  },
  {
   "cell_type": "code",
   "execution_count": 5,
   "id": "435f2eb9",
   "metadata": {},
   "outputs": [],
   "source": [
    "nike['selftext'] = nike['selftext'].fillna('')"
   ]
  },
  {
   "cell_type": "code",
   "execution_count": 6,
   "id": "56ae00a3",
   "metadata": {},
   "outputs": [],
   "source": [
    "nike['text'] = nike['title'] + ' ' + nike['selftext']"
   ]
  },
  {
   "cell_type": "markdown",
   "id": "3cc7f34a",
   "metadata": {},
   "source": [
    "### Removing Links"
   ]
  },
  {
   "cell_type": "code",
   "execution_count": 7,
   "id": "99cec1bf",
   "metadata": {},
   "outputs": [],
   "source": [
    "def check_char(char_name, char, data):\n",
    "    count = 0\n",
    "    for text in data['text']:\n",
    "        count += text.count(char)\n",
    "    return print(f'{char_name}: {count}')"
   ]
  },
  {
   "cell_type": "code",
   "execution_count": 8,
   "id": "22b12472",
   "metadata": {},
   "outputs": [
    {
     "name": "stdout",
     "output_type": "stream",
     "text": [
      "links: 494\n"
     ]
    }
   ],
   "source": [
    "check_char('links', 'http', nike)"
   ]
  },
  {
   "cell_type": "code",
   "execution_count": 9,
   "id": "f5296d73",
   "metadata": {},
   "outputs": [],
   "source": [
    "nike['text'] = nike['text'].str.replace('http\\S+|www.\\S+', '', case=False)"
   ]
  },
  {
   "cell_type": "markdown",
   "id": "7780d59a",
   "metadata": {},
   "source": [
    "### Removing Characters"
   ]
  },
  {
   "cell_type": "code",
   "execution_count": 10,
   "id": "1bebb9d5",
   "metadata": {},
   "outputs": [
    {
     "name": "stdout",
     "output_type": "stream",
     "text": [
      "newline: 2653\n"
     ]
    }
   ],
   "source": [
    "check_char('newline', '\\n', nike)"
   ]
  },
  {
   "cell_type": "code",
   "execution_count": 11,
   "id": "02cc628a",
   "metadata": {},
   "outputs": [
    {
     "name": "stdout",
     "output_type": "stream",
     "text": [
      "backslash: 2\n"
     ]
    }
   ],
   "source": [
    "check_char('backslash', '\\\\', nike)"
   ]
  },
  {
   "cell_type": "code",
   "execution_count": 12,
   "id": "93474929",
   "metadata": {},
   "outputs": [
    {
     "name": "stdout",
     "output_type": "stream",
     "text": [
      "dspace: 232\n"
     ]
    }
   ],
   "source": [
    "check_char('dspace', '  ', nike)"
   ]
  },
  {
   "cell_type": "code",
   "execution_count": 13,
   "id": "991041f3",
   "metadata": {},
   "outputs": [
    {
     "name": "stdout",
     "output_type": "stream",
     "text": [
      "dquote: 9\n"
     ]
    }
   ],
   "source": [
    "check_char('dquote', '\\\"', nike)"
   ]
  },
  {
   "cell_type": "code",
   "execution_count": 14,
   "id": "1a045732",
   "metadata": {},
   "outputs": [],
   "source": [
    "def replace_char(char_name, char, data):\n",
    "    for text in data['text']:\n",
    "        data['text'] = data['text'].str.replace(char,' ').replace('  ',' ')\n",
    "    return check_char(char_name, char, data)"
   ]
  },
  {
   "cell_type": "code",
   "execution_count": 15,
   "id": "71fa623e",
   "metadata": {},
   "outputs": [
    {
     "name": "stdout",
     "output_type": "stream",
     "text": [
      "newline: 0\n"
     ]
    }
   ],
   "source": [
    "replace_char('newline', '\\n', nike)"
   ]
  },
  {
   "cell_type": "code",
   "execution_count": 16,
   "id": "746b5880",
   "metadata": {},
   "outputs": [
    {
     "name": "stdout",
     "output_type": "stream",
     "text": [
      "backslash: 0\n"
     ]
    }
   ],
   "source": [
    "replace_char('backslash', '\\\\', nike)"
   ]
  },
  {
   "cell_type": "code",
   "execution_count": 17,
   "id": "ec72eadc",
   "metadata": {},
   "outputs": [
    {
     "name": "stdout",
     "output_type": "stream",
     "text": [
      "dquote: 0\n"
     ]
    }
   ],
   "source": [
    "replace_char('dquote', '\\\"', nike)"
   ]
  },
  {
   "cell_type": "markdown",
   "id": "11ae3af9",
   "metadata": {},
   "source": [
    "### Final Word Count"
   ]
  },
  {
   "cell_type": "code",
   "execution_count": 18,
   "id": "4d81973c",
   "metadata": {},
   "outputs": [],
   "source": [
    "nike['word_count'] = nike['text'].map(lambda x: len(x.split()))"
   ]
  },
  {
   "cell_type": "code",
   "execution_count": 19,
   "id": "708b14fd",
   "metadata": {},
   "outputs": [
    {
     "data": {
      "text/plain": [
       "47       20\n",
       "49       20\n",
       "27       20\n",
       "18       20\n",
       "3229     21\n",
       "       ... \n",
       "108     311\n",
       "2358    311\n",
       "4458    311\n",
       "1758    311\n",
       "46      347\n",
       "Name: word_count, Length: 5000, dtype: int64"
      ]
     },
     "execution_count": 19,
     "metadata": {},
     "output_type": "execute_result"
    }
   ],
   "source": [
    "nike['word_count'].sort_values(ascending = True)"
   ]
  },
  {
   "cell_type": "code",
   "execution_count": 20,
   "id": "5e38bd52",
   "metadata": {},
   "outputs": [
    {
     "data": {
      "text/html": [
       "<div>\n",
       "<style scoped>\n",
       "    .dataframe tbody tr th:only-of-type {\n",
       "        vertical-align: middle;\n",
       "    }\n",
       "\n",
       "    .dataframe tbody tr th {\n",
       "        vertical-align: top;\n",
       "    }\n",
       "\n",
       "    .dataframe thead th {\n",
       "        text-align: right;\n",
       "    }\n",
       "</style>\n",
       "<table border=\"1\" class=\"dataframe\">\n",
       "  <thead>\n",
       "    <tr style=\"text-align: right;\">\n",
       "      <th></th>\n",
       "      <th>author</th>\n",
       "      <th>subreddit</th>\n",
       "      <th>selftext</th>\n",
       "      <th>title</th>\n",
       "      <th>created_utc</th>\n",
       "      <th>text</th>\n",
       "      <th>word_count</th>\n",
       "    </tr>\n",
       "  </thead>\n",
       "  <tbody>\n",
       "    <tr>\n",
       "      <th>0</th>\n",
       "      <td>yeet_zeehond</td>\n",
       "      <td>Nike</td>\n",
       "      <td>Im trying to login with paypal on nike snkrs b...</td>\n",
       "      <td>nike snkrs paypal error</td>\n",
       "      <td>1668065959</td>\n",
       "      <td>nike snkrs paypal error Im trying to login wit...</td>\n",
       "      <td>35</td>\n",
       "    </tr>\n",
       "    <tr>\n",
       "      <th>1</th>\n",
       "      <td>Alone_Painter_7326</td>\n",
       "      <td>Nike</td>\n",
       "      <td></td>\n",
       "      <td>Our local courier here in the Philippines lost...</td>\n",
       "      <td>1668060481</td>\n",
       "      <td>Our local courier here in the Philippines lost...</td>\n",
       "      <td>57</td>\n",
       "    </tr>\n",
       "    <tr>\n",
       "      <th>2</th>\n",
       "      <td>CumMilkshake69</td>\n",
       "      <td>Nike</td>\n",
       "      <td></td>\n",
       "      <td>What jacket is this? I know this is vintage an...</td>\n",
       "      <td>1668048611</td>\n",
       "      <td>What jacket is this? I know this is vintage an...</td>\n",
       "      <td>21</td>\n",
       "    </tr>\n",
       "    <tr>\n",
       "      <th>3</th>\n",
       "      <td>Rudy5860</td>\n",
       "      <td>Nike</td>\n",
       "      <td>So I’m just getting into sneakers and have bou...</td>\n",
       "      <td>Burned on the dunk drop today.</td>\n",
       "      <td>1668036353</td>\n",
       "      <td>Burned on the dunk drop today. So I’m just get...</td>\n",
       "      <td>140</td>\n",
       "    </tr>\n",
       "    <tr>\n",
       "      <th>4</th>\n",
       "      <td>ness-main</td>\n",
       "      <td>Nike</td>\n",
       "      <td>I got a pair of air forces that I wear almost ...</td>\n",
       "      <td>Is there anyway to restore the grip on a pair ...</td>\n",
       "      <td>1668029200</td>\n",
       "      <td>Is there anyway to restore the grip on a pair ...</td>\n",
       "      <td>58</td>\n",
       "    </tr>\n",
       "  </tbody>\n",
       "</table>\n",
       "</div>"
      ],
      "text/plain": [
       "               author subreddit  \\\n",
       "0        yeet_zeehond      Nike   \n",
       "1  Alone_Painter_7326      Nike   \n",
       "2      CumMilkshake69      Nike   \n",
       "3            Rudy5860      Nike   \n",
       "4           ness-main      Nike   \n",
       "\n",
       "                                            selftext  \\\n",
       "0  Im trying to login with paypal on nike snkrs b...   \n",
       "1                                                      \n",
       "2                                                      \n",
       "3  So I’m just getting into sneakers and have bou...   \n",
       "4  I got a pair of air forces that I wear almost ...   \n",
       "\n",
       "                                               title  created_utc  \\\n",
       "0                            nike snkrs paypal error   1668065959   \n",
       "1  Our local courier here in the Philippines lost...   1668060481   \n",
       "2  What jacket is this? I know this is vintage an...   1668048611   \n",
       "3                     Burned on the dunk drop today.   1668036353   \n",
       "4  Is there anyway to restore the grip on a pair ...   1668029200   \n",
       "\n",
       "                                                text  word_count  \n",
       "0  nike snkrs paypal error Im trying to login wit...          35  \n",
       "1  Our local courier here in the Philippines lost...          57  \n",
       "2  What jacket is this? I know this is vintage an...          21  \n",
       "3  Burned on the dunk drop today. So I’m just get...         140  \n",
       "4  Is there anyway to restore the grip on a pair ...          58  "
      ]
     },
     "execution_count": 20,
     "metadata": {},
     "output_type": "execute_result"
    }
   ],
   "source": [
    "nike.head()"
   ]
  },
  {
   "cell_type": "markdown",
   "id": "daee23b4",
   "metadata": {},
   "source": [
    "## Adidas\n",
    "### Null values"
   ]
  },
  {
   "cell_type": "code",
   "execution_count": 21,
   "id": "4c61ea5c",
   "metadata": {},
   "outputs": [],
   "source": [
    "adidas['selftext'] = adidas['selftext'].fillna('')"
   ]
  },
  {
   "cell_type": "code",
   "execution_count": 22,
   "id": "a8b4a019",
   "metadata": {},
   "outputs": [],
   "source": [
    "adidas['text'] = adidas['title'] + ' ' + adidas['selftext']"
   ]
  },
  {
   "cell_type": "code",
   "execution_count": 23,
   "id": "33a9ea13",
   "metadata": {},
   "outputs": [
    {
     "name": "stdout",
     "output_type": "stream",
     "text": [
      "http: 687\n"
     ]
    }
   ],
   "source": [
    "check_char('http', 'http', adidas)"
   ]
  },
  {
   "cell_type": "markdown",
   "id": "5b960103",
   "metadata": {},
   "source": [
    "### Removing Links"
   ]
  },
  {
   "cell_type": "code",
   "execution_count": 24,
   "id": "cbce23ba",
   "metadata": {},
   "outputs": [],
   "source": [
    "adidas['text'] = adidas['text'].str.replace('http\\S+|www.\\S+', '', case=False)"
   ]
  },
  {
   "cell_type": "code",
   "execution_count": 25,
   "id": "93cbbffb",
   "metadata": {},
   "outputs": [
    {
     "name": "stdout",
     "output_type": "stream",
     "text": [
      "newline: 7560\n"
     ]
    }
   ],
   "source": [
    "check_char('newline', '\\n', adidas)"
   ]
  },
  {
   "cell_type": "code",
   "execution_count": 26,
   "id": "b9b0370b",
   "metadata": {},
   "outputs": [
    {
     "name": "stdout",
     "output_type": "stream",
     "text": [
      "backslash: 228\n"
     ]
    }
   ],
   "source": [
    "check_char('backslash', '\\\\', adidas)"
   ]
  },
  {
   "cell_type": "code",
   "execution_count": 27,
   "id": "d3063899",
   "metadata": {},
   "outputs": [
    {
     "name": "stdout",
     "output_type": "stream",
     "text": [
      "dspace: 1244\n"
     ]
    }
   ],
   "source": [
    "check_char('dspace', '  ', adidas)"
   ]
  },
  {
   "cell_type": "code",
   "execution_count": 28,
   "id": "5346d1ae",
   "metadata": {},
   "outputs": [
    {
     "name": "stdout",
     "output_type": "stream",
     "text": [
      "dquote: 509\n"
     ]
    }
   ],
   "source": [
    "check_char('dquote', '\\\"', adidas)"
   ]
  },
  {
   "cell_type": "code",
   "execution_count": 29,
   "id": "8f277f51",
   "metadata": {},
   "outputs": [
    {
     "name": "stdout",
     "output_type": "stream",
     "text": [
      "newline: 0\n"
     ]
    }
   ],
   "source": [
    "replace_char('newline', '\\n', adidas)"
   ]
  },
  {
   "cell_type": "code",
   "execution_count": 30,
   "id": "ffc8d108",
   "metadata": {},
   "outputs": [
    {
     "name": "stdout",
     "output_type": "stream",
     "text": [
      "backslash: 0\n"
     ]
    }
   ],
   "source": [
    "replace_char('backslash', '\\\\', adidas)"
   ]
  },
  {
   "cell_type": "code",
   "execution_count": 31,
   "id": "8e94ffe6",
   "metadata": {},
   "outputs": [
    {
     "name": "stdout",
     "output_type": "stream",
     "text": [
      "dquote: 0\n"
     ]
    }
   ],
   "source": [
    "replace_char('dquote', '\\\"', adidas)"
   ]
  },
  {
   "cell_type": "markdown",
   "id": "13f14df8",
   "metadata": {},
   "source": [
    "### Final Word Count"
   ]
  },
  {
   "cell_type": "code",
   "execution_count": 32,
   "id": "bf57e271",
   "metadata": {},
   "outputs": [],
   "source": [
    "adidas['word_count'] = adidas['text'].map(lambda x: len(x.split()))"
   ]
  },
  {
   "cell_type": "code",
   "execution_count": 33,
   "id": "3f1ddf97",
   "metadata": {},
   "outputs": [
    {
     "data": {
      "text/plain": [
       "118      20\n",
       "4174     20\n",
       "1534     20\n",
       "4614     20\n",
       "1350     20\n",
       "       ... \n",
       "528     304\n",
       "2992    304\n",
       "4928    304\n",
       "1848    304\n",
       "1232    304\n",
       "Name: word_count, Length: 5000, dtype: int64"
      ]
     },
     "execution_count": 33,
     "metadata": {},
     "output_type": "execute_result"
    }
   ],
   "source": [
    "adidas['word_count'].sort_values(ascending = True)"
   ]
  },
  {
   "cell_type": "code",
   "execution_count": 34,
   "id": "3492a842",
   "metadata": {},
   "outputs": [
    {
     "data": {
      "text/html": [
       "<div>\n",
       "<style scoped>\n",
       "    .dataframe tbody tr th:only-of-type {\n",
       "        vertical-align: middle;\n",
       "    }\n",
       "\n",
       "    .dataframe tbody tr th {\n",
       "        vertical-align: top;\n",
       "    }\n",
       "\n",
       "    .dataframe thead th {\n",
       "        text-align: right;\n",
       "    }\n",
       "</style>\n",
       "<table border=\"1\" class=\"dataframe\">\n",
       "  <thead>\n",
       "    <tr style=\"text-align: right;\">\n",
       "      <th></th>\n",
       "      <th>author</th>\n",
       "      <th>subreddit</th>\n",
       "      <th>selftext</th>\n",
       "      <th>title</th>\n",
       "      <th>created_utc</th>\n",
       "      <th>text</th>\n",
       "      <th>word_count</th>\n",
       "    </tr>\n",
       "  </thead>\n",
       "  <tbody>\n",
       "    <tr>\n",
       "      <th>0</th>\n",
       "      <td>KiryuuShino</td>\n",
       "      <td>adidas</td>\n",
       "      <td>Hey ive been wondering if the NMD v3 is tts? F...</td>\n",
       "      <td>Adidas NMD V3 sizing. Is it TTS (True to size) ?</td>\n",
       "      <td>1668067730</td>\n",
       "      <td>Adidas NMD V3 sizing. Is it TTS (True to size)...</td>\n",
       "      <td>66</td>\n",
       "    </tr>\n",
       "    <tr>\n",
       "      <th>1</th>\n",
       "      <td>kurokageidris</td>\n",
       "      <td>adidas</td>\n",
       "      <td></td>\n",
       "      <td>I was wondering if you can use this Adidas Str...</td>\n",
       "      <td>1668053913</td>\n",
       "      <td>I was wondering if you can use this Adidas Str...</td>\n",
       "      <td>22</td>\n",
       "    </tr>\n",
       "    <tr>\n",
       "      <th>2</th>\n",
       "      <td>ten-lbs-over</td>\n",
       "      <td>adidas</td>\n",
       "      <td></td>\n",
       "      <td>Anyone know what shoes these are? Worn by Evan...</td>\n",
       "      <td>1668053651</td>\n",
       "      <td>Anyone know what shoes these are? Worn by Evan...</td>\n",
       "      <td>30</td>\n",
       "    </tr>\n",
       "    <tr>\n",
       "      <th>3</th>\n",
       "      <td>UltramanTiga_52</td>\n",
       "      <td>adidas</td>\n",
       "      <td>My TTS is US9 (27cm). Narrow feet\\n\\nWhat size...</td>\n",
       "      <td>Adilette 22 sizing</td>\n",
       "      <td>1668048085</td>\n",
       "      <td>Adilette 22 sizing My TTS is US9 (27cm). Narro...</td>\n",
       "      <td>36</td>\n",
       "    </tr>\n",
       "    <tr>\n",
       "      <th>4</th>\n",
       "      <td>Jpdelgado</td>\n",
       "      <td>adidas</td>\n",
       "      <td>It’s been crazy to get a simple answer from th...</td>\n",
       "      <td>Custom Gear (Adiclub)</td>\n",
       "      <td>1668040604</td>\n",
       "      <td>Custom Gear (Adiclub) It’s been crazy to get a...</td>\n",
       "      <td>51</td>\n",
       "    </tr>\n",
       "  </tbody>\n",
       "</table>\n",
       "</div>"
      ],
      "text/plain": [
       "            author subreddit  \\\n",
       "0      KiryuuShino    adidas   \n",
       "1    kurokageidris    adidas   \n",
       "2     ten-lbs-over    adidas   \n",
       "3  UltramanTiga_52    adidas   \n",
       "4        Jpdelgado    adidas   \n",
       "\n",
       "                                            selftext  \\\n",
       "0  Hey ive been wondering if the NMD v3 is tts? F...   \n",
       "1                                                      \n",
       "2                                                      \n",
       "3  My TTS is US9 (27cm). Narrow feet\\n\\nWhat size...   \n",
       "4  It’s been crazy to get a simple answer from th...   \n",
       "\n",
       "                                               title  created_utc  \\\n",
       "0   Adidas NMD V3 sizing. Is it TTS (True to size) ?   1668067730   \n",
       "1  I was wondering if you can use this Adidas Str...   1668053913   \n",
       "2  Anyone know what shoes these are? Worn by Evan...   1668053651   \n",
       "3                                 Adilette 22 sizing   1668048085   \n",
       "4                              Custom Gear (Adiclub)   1668040604   \n",
       "\n",
       "                                                text  word_count  \n",
       "0  Adidas NMD V3 sizing. Is it TTS (True to size)...          66  \n",
       "1  I was wondering if you can use this Adidas Str...          22  \n",
       "2  Anyone know what shoes these are? Worn by Evan...          30  \n",
       "3  Adilette 22 sizing My TTS is US9 (27cm). Narro...          36  \n",
       "4  Custom Gear (Adiclub) It’s been crazy to get a...          51  "
      ]
     },
     "execution_count": 34,
     "metadata": {},
     "output_type": "execute_result"
    }
   ],
   "source": [
    "adidas.head()"
   ]
  },
  {
   "cell_type": "markdown",
   "id": "d400f0a8",
   "metadata": {},
   "source": [
    "# EDA"
   ]
  },
  {
   "cell_type": "markdown",
   "id": "cee25a76",
   "metadata": {},
   "source": [
    "## Overview Dataset Analysis"
   ]
  },
  {
   "cell_type": "code",
   "execution_count": 42,
   "id": "9de54e96",
   "metadata": {},
   "outputs": [
    {
     "data": {
      "image/png": "[encoded data removed]",
      "text/plain": [
       "<Figure size 936x504 with 1 Axes>"
      ]
     },
     "metadata": {
      "needs_background": "light"
     },
     "output_type": "display_data"
    }
   ],
   "source": [
    "plt.figure(figsize=(13,7))\n",
    "plt.hist([nike['word_count'], \n",
    "          adidas['word_count']],\n",
    "         bins=30, color=['blue', 'orange'], ec='k')\n",
    "\n",
    "plt.title('Word Count in Selftext and Title by Subreddit', fontsize=25)\n",
    "plt.legend(['Nike', 'Adidas'], fontsize=18);\n",
    "plt.xlabel(\"Word Count\", fontsize=15)\n",
    "plt.ylabel(\"Post\", fontsize=15)\n",
    "plt.savefig('../chart/word_count.png', bbox_inches='tight')"
   ]
  },
  {
   "cell_type": "code",
   "execution_count": 44,
   "id": "a78d7053",
   "metadata": {},
   "outputs": [
    {
     "data": {
      "text/plain": [
       "Extroe                 394\n",
       "Nervous-Matter4576     198\n",
       "Syranial-Bean          198\n",
       "NesquikBoi              99\n",
       "lsweg                   99\n",
       "                      ... \n",
       "WarAsleep                1\n",
       "potatoman1036            1\n",
       "runsdead67               1\n",
       "BearPrestigious7101      1\n",
       "anonwantstobemore        1\n",
       "Name: author, Length: 108, dtype: int64"
      ]
     },
     "execution_count": 44,
     "metadata": {},
     "output_type": "execute_result"
    }
   ],
   "source": [
    "nike['author'].value_counts()"
   ]
  },
  {
   "cell_type": "code",
   "execution_count": 45,
   "id": "7ba56645",
   "metadata": {},
   "outputs": [
    {
     "data": {
      "text/plain": [
       "neonnearvash            167\n",
       "Alternative_Coconut6    111\n",
       "MClooosey               110\n",
       "manybutters              57\n",
       "kgoverlbs180190          57\n",
       "                       ... \n",
       "HairyMamba96              1\n",
       "Elkaram77                 1\n",
       "IamAsleepNowCallL8r       1\n",
       "Size4E                    1\n",
       "KiryuuShino               1\n",
       "Name: author, Length: 128, dtype: int64"
      ]
     },
     "execution_count": 45,
     "metadata": {},
     "output_type": "execute_result"
    }
   ],
   "source": [
    "adidas['author'].value_counts()"
   ]
  },
  {
   "cell_type": "markdown",
   "id": "2e7f41d3",
   "metadata": {},
   "source": [
    "## Words Analysis\n",
    "### 20 Most Common Words"
   ]
  },
  {
   "cell_type": "markdown",
   "id": "61293e68",
   "metadata": {},
   "source": [
    "#### Nike"
   ]
  },
  {
   "cell_type": "code",
   "execution_count": 46,
   "id": "196915af",
   "metadata": {},
   "outputs": [],
   "source": [
    "cv = CountVectorizer(stop_words='english')\n",
    "cv.fit(nike['text'])\n",
    "\n",
    "nike_cv = cv.transform(nike['text'])\n",
    "nike_cv_df = pd.DataFrame(nike_cv.todense(), columns=cv.get_feature_names())"
   ]
  },
  {
   "cell_type": "code",
   "execution_count": 47,
   "id": "4d5cef9d",
   "metadata": {},
   "outputs": [],
   "source": [
    "nike_cv_df = nike_cv_df.drop('nike', axis=1)"
   ]
  },
  {
   "cell_type": "code",
   "execution_count": 48,
   "id": "425e9199",
   "metadata": {},
   "outputs": [
    {
     "data": {
      "text/html": [
       "<div>\n",
       "<style scoped>\n",
       "    .dataframe tbody tr th:only-of-type {\n",
       "        vertical-align: middle;\n",
       "    }\n",
       "\n",
       "    .dataframe tbody tr th {\n",
       "        vertical-align: top;\n",
       "    }\n",
       "\n",
       "    .dataframe thead th {\n",
       "        text-align: right;\n",
       "    }\n",
       "</style>\n",
       "<table border=\"1\" class=\"dataframe\">\n",
       "  <thead>\n",
       "    <tr style=\"text-align: right;\">\n",
       "      <th></th>\n",
       "      <th>shoes</th>\n",
       "      <th>like</th>\n",
       "      <th>know</th>\n",
       "      <th>just</th>\n",
       "      <th>size</th>\n",
       "      <th>help</th>\n",
       "      <th>little</th>\n",
       "      <th>pair</th>\n",
       "      <th>air</th>\n",
       "      <th>bought</th>\n",
       "      <th>really</th>\n",
       "      <th>make</th>\n",
       "      <th>leather</th>\n",
       "      <th>work</th>\n",
       "      <th>ve</th>\n",
       "      <th>does</th>\n",
       "      <th>time</th>\n",
       "      <th>don</th>\n",
       "      <th>reflective</th>\n",
       "      <th>worn</th>\n",
       "    </tr>\n",
       "  </thead>\n",
       "  <tbody>\n",
       "    <tr>\n",
       "      <th>Count</th>\n",
       "      <td>3193</td>\n",
       "      <td>1692</td>\n",
       "      <td>1602</td>\n",
       "      <td>1601</td>\n",
       "      <td>1308</td>\n",
       "      <td>995</td>\n",
       "      <td>791</td>\n",
       "      <td>710</td>\n",
       "      <td>708</td>\n",
       "      <td>702</td>\n",
       "      <td>701</td>\n",
       "      <td>695</td>\n",
       "      <td>694</td>\n",
       "      <td>692</td>\n",
       "      <td>605</td>\n",
       "      <td>600</td>\n",
       "      <td>599</td>\n",
       "      <td>597</td>\n",
       "      <td>592</td>\n",
       "      <td>499</td>\n",
       "    </tr>\n",
       "  </tbody>\n",
       "</table>\n",
       "</div>"
      ],
      "text/plain": [
       "       shoes  like  know  just  size  help  little  pair  air  bought  really  \\\n",
       "Count   3193  1692  1602  1601  1308   995     791   710  708     702     701   \n",
       "\n",
       "       make  leather  work   ve  does  time  don  reflective  worn  \n",
       "Count   695      694   692  605   600   599  597         592   499  "
      ]
     },
     "execution_count": 48,
     "metadata": {},
     "output_type": "execute_result"
    }
   ],
   "source": [
    "nike_top_words = pd.DataFrame(nike_cv_df.sum().sort_values(ascending=False).head(20), columns = ['Count'])\n",
    "nike_top_words.T"
   ]
  },
  {
   "cell_type": "code",
   "execution_count": 49,
   "id": "aaaf9a52",
   "metadata": {},
   "outputs": [
    {
     "data": {
      "image/png": "[encoded data removed]",
      "text/plain": [
       "<Figure size 648x360 with 1 Axes>"
      ]
     },
     "metadata": {
      "needs_background": "light"
     },
     "output_type": "display_data"
    }
   ],
   "source": [
    "fig, ax = plt.subplots(figsize=(9,5))\n",
    "sns.barplot(x='Count', y=nike_top_words.index , data=nike_top_words)\n",
    "plt.title('Nike Top 20 common words (excluding Nike)',fontsize=15)\n",
    "plt.xlabel('Word Count', fontsize=12)\n",
    "plt.yticks(fontsize=12)\n",
    "plt.tight_layout()\n",
    "plt.savefig('../chart/nike_20words.png', bbox_inches='tight')"
   ]
  },
  {
   "cell_type": "markdown",
   "id": "3a63aedb",
   "metadata": {},
   "source": [
    "#### Adidas"
   ]
  },
  {
   "cell_type": "code",
   "execution_count": 50,
   "id": "8200ea47",
   "metadata": {},
   "outputs": [],
   "source": [
    "cv.fit(adidas['text'])\n",
    "\n",
    "adidas_cv = cv.transform(adidas['text'])\n",
    "adidas_cv_df = pd.DataFrame(adidas_cv.todense(), columns=cv.get_feature_names())"
   ]
  },
  {
   "cell_type": "code",
   "execution_count": 51,
   "id": "787c7522",
   "metadata": {},
   "outputs": [],
   "source": [
    "adidas_cv_df = adidas_cv_df.drop('adidas', axis=1)"
   ]
  },
  {
   "cell_type": "code",
   "execution_count": 52,
   "id": "e498828d",
   "metadata": {},
   "outputs": [
    {
     "data": {
      "text/html": [
       "<div>\n",
       "<style scoped>\n",
       "    .dataframe tbody tr th:only-of-type {\n",
       "        vertical-align: middle;\n",
       "    }\n",
       "\n",
       "    .dataframe tbody tr th {\n",
       "        vertical-align: top;\n",
       "    }\n",
       "\n",
       "    .dataframe thead th {\n",
       "        text-align: right;\n",
       "    }\n",
       "</style>\n",
       "<table border=\"1\" class=\"dataframe\">\n",
       "  <thead>\n",
       "    <tr style=\"text-align: right;\">\n",
       "      <th></th>\n",
       "      <th>pair</th>\n",
       "      <th>shoes</th>\n",
       "      <th>know</th>\n",
       "      <th>shoe</th>\n",
       "      <th>just</th>\n",
       "      <th>ve</th>\n",
       "      <th>help</th>\n",
       "      <th>size</th>\n",
       "      <th>got</th>\n",
       "      <th>like</th>\n",
       "      <th>don</th>\n",
       "      <th>does</th>\n",
       "      <th>buy</th>\n",
       "      <th>need</th>\n",
       "      <th>black</th>\n",
       "      <th>confirmed</th>\n",
       "      <th>app</th>\n",
       "      <th>want</th>\n",
       "      <th>time</th>\n",
       "      <th>order</th>\n",
       "    </tr>\n",
       "  </thead>\n",
       "  <tbody>\n",
       "    <tr>\n",
       "      <th>Count</th>\n",
       "      <td>1762</td>\n",
       "      <td>1375</td>\n",
       "      <td>1364</td>\n",
       "      <td>1311</td>\n",
       "      <td>1307</td>\n",
       "      <td>1018</td>\n",
       "      <td>908</td>\n",
       "      <td>819</td>\n",
       "      <td>792</td>\n",
       "      <td>749</td>\n",
       "      <td>732</td>\n",
       "      <td>683</td>\n",
       "      <td>681</td>\n",
       "      <td>622</td>\n",
       "      <td>621</td>\n",
       "      <td>619</td>\n",
       "      <td>616</td>\n",
       "      <td>614</td>\n",
       "      <td>564</td>\n",
       "      <td>509</td>\n",
       "    </tr>\n",
       "  </tbody>\n",
       "</table>\n",
       "</div>"
      ],
      "text/plain": [
       "       pair  shoes  know  shoe  just    ve  help  size  got  like  don  does  \\\n",
       "Count  1762   1375  1364  1311  1307  1018   908   819  792   749  732   683   \n",
       "\n",
       "       buy  need  black  confirmed  app  want  time  order  \n",
       "Count  681   622    621        619  616   614   564    509  "
      ]
     },
     "execution_count": 52,
     "metadata": {},
     "output_type": "execute_result"
    }
   ],
   "source": [
    "adidas_top_words = pd.DataFrame(adidas_cv_df.sum().sort_values(ascending=False).head(20), columns = ['Count'])\n",
    "adidas_top_words.T"
   ]
  },
  {
   "cell_type": "code",
   "execution_count": 53,
   "id": "04151900",
   "metadata": {},
   "outputs": [
    {
     "data": {
      "image/png": "[encoded data removed]",
      "text/plain": [
       "<Figure size 648x360 with 1 Axes>"
      ]
     },
     "metadata": {
      "needs_background": "light"
     },
     "output_type": "display_data"
    }
   ],
   "source": [
    "fig, ax = plt.subplots(figsize=(9,5))\n",
    "sns.barplot(x='Count', y=adidas_top_words.index , data=adidas_top_words)\n",
    "plt.title('Adidas Top 20 common words (excluding Adidas)',fontsize=15)\n",
    "plt.xlabel('Word Count', fontsize=12)\n",
    "plt.yticks(fontsize=12)\n",
    "plt.tight_layout()\n",
    "plt.savefig('../chart/adidas_20words.png', bbox_inches='tight')"
   ]
  },
  {
   "cell_type": "markdown",
   "id": "60a1e23f",
   "metadata": {},
   "source": [
    "#### Both"
   ]
  },
  {
   "cell_type": "code",
   "execution_count": 55,
   "id": "6f263e7c",
   "metadata": {},
   "outputs": [
    {
     "name": "stdout",
     "output_type": "stream",
     "text": [
      "['shoes', 'like', 'know', 'just', 'size', 'help', 'pair', 've', 'does', 'time', 'don']\n"
     ]
    }
   ],
   "source": [
    "both = []\n",
    "for i in range(20):\n",
    "    for j in range(20):\n",
    "        if nike_top_words.index[i] == adidas_top_words.index[j]:\n",
    "            both.append(nike_top_words.index[i])\n",
    "print(both)"
   ]
  },
  {
   "cell_type": "code",
   "execution_count": 56,
   "id": "494ce263",
   "metadata": {},
   "outputs": [
    {
     "name": "stdout",
     "output_type": "stream",
     "text": [
      "['little', 'air', 'bought', 'really', 'make', 'leather', 'work', 'reflective', 'worn']\n"
     ]
    }
   ],
   "source": [
    "nike_words = list(nike_top_words.index)\n",
    "nike_words = [x for x in nike_words if x not in both]\n",
    "print(nike_words)"
   ]
  },
  {
   "cell_type": "code",
   "execution_count": 57,
   "id": "31302dcd",
   "metadata": {},
   "outputs": [
    {
     "name": "stdout",
     "output_type": "stream",
     "text": [
      "['shoe', 'got', 'buy', 'need', 'black', 'confirmed', 'app', 'want', 'order']\n"
     ]
    }
   ],
   "source": [
    "adidas_words = list(adidas_top_words.index)\n",
    "adidas_words = [x for x in adidas_words if x not in both]\n",
    "print(adidas_words)"
   ]
  },
  {
   "cell_type": "markdown",
   "id": "4a9f2f5e",
   "metadata": {},
   "source": [
    "There are 11 common word from both Nike and Adidas, which is expected as both brands' businesses are driven by Footwear. Some words that stand out from Nike only are 'air', 'leather', 'work' and 'reflective', while for Adidas only are 'black', 'confirmed' and 'app'. We will move on to Bigram to further analyse more commonly used words in each subreddit."
   ]
  },
  {
   "cell_type": "markdown",
   "id": "e7456883",
   "metadata": {},
   "source": [
    "### 20 Most Common Bigram"
   ]
  },
  {
   "cell_type": "markdown",
   "id": "6ff8cc10",
   "metadata": {},
   "source": [
    "#### Nike"
   ]
  },
  {
   "cell_type": "code",
   "execution_count": 58,
   "id": "1591367b",
   "metadata": {
    "scrolled": false
   },
   "outputs": [],
   "source": [
    "cv_bigrams = CountVectorizer(ngram_range=(2, 2), stop_words='english')\n",
    "cv_bigrams.fit(nike['text'])\n",
    "\n",
    "nike_bigrams_cv = cv_bigrams.transform(nike['text'])\n",
    "nike_bigrams_df = pd.DataFrame(nike_bigrams_cv.todense(), columns=cv_bigrams.get_feature_names())"
   ]
  },
  {
   "cell_type": "code",
   "execution_count": 59,
   "id": "40ba073f",
   "metadata": {},
   "outputs": [
    {
     "data": {
      "text/html": [
       "<div>\n",
       "<style scoped>\n",
       "    .dataframe tbody tr th:only-of-type {\n",
       "        vertical-align: middle;\n",
       "    }\n",
       "\n",
       "    .dataframe tbody tr th {\n",
       "        vertical-align: top;\n",
       "    }\n",
       "\n",
       "    .dataframe thead th {\n",
       "        text-align: right;\n",
       "    }\n",
       "</style>\n",
       "<table border=\"1\" class=\"dataframe\">\n",
       "  <thead>\n",
       "    <tr style=\"text-align: right;\">\n",
       "      <th></th>\n",
       "      <th>Count</th>\n",
       "    </tr>\n",
       "  </thead>\n",
       "  <tbody>\n",
       "    <tr>\n",
       "      <th>air max</th>\n",
       "      <td>398</td>\n",
       "    </tr>\n",
       "    <tr>\n",
       "      <th>nike shoes</th>\n",
       "      <td>299</td>\n",
       "    </tr>\n",
       "    <tr>\n",
       "      <th>does know</th>\n",
       "      <td>298</td>\n",
       "    </tr>\n",
       "    <tr>\n",
       "      <th>amp x200b</th>\n",
       "      <td>297</td>\n",
       "    </tr>\n",
       "    <tr>\n",
       "      <th>basketball shoes</th>\n",
       "      <td>297</td>\n",
       "    </tr>\n",
       "    <tr>\n",
       "      <th>photon dust</th>\n",
       "      <td>295</td>\n",
       "    </tr>\n",
       "    <tr>\n",
       "      <th>lace loops</th>\n",
       "      <td>295</td>\n",
       "    </tr>\n",
       "    <tr>\n",
       "      <th>reflective lace</th>\n",
       "      <td>295</td>\n",
       "    </tr>\n",
       "    <tr>\n",
       "      <th>loops 95s</th>\n",
       "      <td>295</td>\n",
       "    </tr>\n",
       "    <tr>\n",
       "      <th>dust reflective</th>\n",
       "      <td>295</td>\n",
       "    </tr>\n",
       "    <tr>\n",
       "      <th>flex experience</th>\n",
       "      <td>294</td>\n",
       "    </tr>\n",
       "    <tr>\n",
       "      <th>air force</th>\n",
       "      <td>205</td>\n",
       "    </tr>\n",
       "    <tr>\n",
       "      <th>ve worn</th>\n",
       "      <td>201</td>\n",
       "    </tr>\n",
       "    <tr>\n",
       "      <th>hey guys</th>\n",
       "      <td>200</td>\n",
       "    </tr>\n",
       "    <tr>\n",
       "      <th>jordan 1s</th>\n",
       "      <td>200</td>\n",
       "    </tr>\n",
       "    <tr>\n",
       "      <th>shoes really</th>\n",
       "      <td>198</td>\n",
       "    </tr>\n",
       "    <tr>\n",
       "      <th>13 wide</th>\n",
       "      <td>198</td>\n",
       "    </tr>\n",
       "    <tr>\n",
       "      <th>want know</th>\n",
       "      <td>198</td>\n",
       "    </tr>\n",
       "    <tr>\n",
       "      <th>tell legit</th>\n",
       "      <td>198</td>\n",
       "    </tr>\n",
       "    <tr>\n",
       "      <th>airmax 95</th>\n",
       "      <td>198</td>\n",
       "    </tr>\n",
       "  </tbody>\n",
       "</table>\n",
       "</div>"
      ],
      "text/plain": [
       "                  Count\n",
       "air max             398\n",
       "nike shoes          299\n",
       "does know           298\n",
       "amp x200b           297\n",
       "basketball shoes    297\n",
       "photon dust         295\n",
       "lace loops          295\n",
       "reflective lace     295\n",
       "loops 95s           295\n",
       "dust reflective     295\n",
       "flex experience     294\n",
       "air force           205\n",
       "ve worn             201\n",
       "hey guys            200\n",
       "jordan 1s           200\n",
       "shoes really        198\n",
       "13 wide             198\n",
       "want know           198\n",
       "tell legit          198\n",
       "airmax 95           198"
      ]
     },
     "execution_count": 59,
     "metadata": {},
     "output_type": "execute_result"
    }
   ],
   "source": [
    "nike_top_bi = pd.DataFrame(nike_bigrams_df.sum().sort_values(ascending=False).head(20), columns = ['Count'])\n",
    "nike_top_bi"
   ]
  },
  {
   "cell_type": "markdown",
   "id": "aea95681",
   "metadata": {},
   "source": [
    "#### Adidas"
   ]
  },
  {
   "cell_type": "code",
   "execution_count": 60,
   "id": "8bf0829d",
   "metadata": {},
   "outputs": [],
   "source": [
    "cv_bigrams.fit(adidas['text'])\n",
    "\n",
    "adidas_bigrams_cv = cv_bigrams.transform(adidas['text'])\n",
    "adidas_bigrams_df = pd.DataFrame(adidas_bigrams_cv.todense(), columns=cv_bigrams.get_feature_names())"
   ]
  },
  {
   "cell_type": "code",
   "execution_count": 61,
   "id": "282ee13c",
   "metadata": {},
   "outputs": [
    {
     "data": {
      "text/html": [
       "<div>\n",
       "<style scoped>\n",
       "    .dataframe tbody tr th:only-of-type {\n",
       "        vertical-align: middle;\n",
       "    }\n",
       "\n",
       "    .dataframe tbody tr th {\n",
       "        vertical-align: top;\n",
       "    }\n",
       "\n",
       "    .dataframe thead th {\n",
       "        text-align: right;\n",
       "    }\n",
       "</style>\n",
       "<table border=\"1\" class=\"dataframe\">\n",
       "  <thead>\n",
       "    <tr style=\"text-align: right;\">\n",
       "      <th></th>\n",
       "      <th>Count</th>\n",
       "    </tr>\n",
       "  </thead>\n",
       "  <tbody>\n",
       "    <tr>\n",
       "      <th>does know</th>\n",
       "      <td>285</td>\n",
       "    </tr>\n",
       "    <tr>\n",
       "      <th>need help</th>\n",
       "      <td>230</td>\n",
       "    </tr>\n",
       "    <tr>\n",
       "      <th>pair adidas</th>\n",
       "      <td>227</td>\n",
       "    </tr>\n",
       "    <tr>\n",
       "      <th>pair shoes</th>\n",
       "      <td>227</td>\n",
       "    </tr>\n",
       "    <tr>\n",
       "      <th>kanye west</th>\n",
       "      <td>226</td>\n",
       "    </tr>\n",
       "    <tr>\n",
       "      <th>adidas confirmed</th>\n",
       "      <td>226</td>\n",
       "    </tr>\n",
       "    <tr>\n",
       "      <th>adidas app</th>\n",
       "      <td>225</td>\n",
       "    </tr>\n",
       "    <tr>\n",
       "      <th>confirmed app</th>\n",
       "      <td>224</td>\n",
       "    </tr>\n",
       "    <tr>\n",
       "      <th>adidas shoes</th>\n",
       "      <td>171</td>\n",
       "    </tr>\n",
       "    <tr>\n",
       "      <th>store pickup</th>\n",
       "      <td>171</td>\n",
       "    </tr>\n",
       "    <tr>\n",
       "      <th>adidas website</th>\n",
       "      <td>169</td>\n",
       "    </tr>\n",
       "    <tr>\n",
       "      <th>track jacket</th>\n",
       "      <td>169</td>\n",
       "    </tr>\n",
       "    <tr>\n",
       "      <th>long term</th>\n",
       "      <td>169</td>\n",
       "    </tr>\n",
       "    <tr>\n",
       "      <th>don want</th>\n",
       "      <td>168</td>\n",
       "    </tr>\n",
       "    <tr>\n",
       "      <th>nmd r1</th>\n",
       "      <td>116</td>\n",
       "    </tr>\n",
       "    <tr>\n",
       "      <th>feels like</th>\n",
       "      <td>115</td>\n",
       "    </tr>\n",
       "    <tr>\n",
       "      <th>money dress</th>\n",
       "      <td>114</td>\n",
       "    </tr>\n",
       "    <tr>\n",
       "      <th>boost sole</th>\n",
       "      <td>114</td>\n",
       "    </tr>\n",
       "    <tr>\n",
       "      <th>shoes boost</th>\n",
       "      <td>114</td>\n",
       "    </tr>\n",
       "    <tr>\n",
       "      <th>ve received</th>\n",
       "      <td>114</td>\n",
       "    </tr>\n",
       "  </tbody>\n",
       "</table>\n",
       "</div>"
      ],
      "text/plain": [
       "                  Count\n",
       "does know           285\n",
       "need help           230\n",
       "pair adidas         227\n",
       "pair shoes          227\n",
       "kanye west          226\n",
       "adidas confirmed    226\n",
       "adidas app          225\n",
       "confirmed app       224\n",
       "adidas shoes        171\n",
       "store pickup        171\n",
       "adidas website      169\n",
       "track jacket        169\n",
       "long term           169\n",
       "don want            168\n",
       "nmd r1              116\n",
       "feels like          115\n",
       "money dress         114\n",
       "boost sole          114\n",
       "shoes boost         114\n",
       "ve received         114"
      ]
     },
     "execution_count": 61,
     "metadata": {},
     "output_type": "execute_result"
    }
   ],
   "source": [
    "adidas_top_bi = pd.DataFrame(adidas_bigrams_df.sum().sort_values(ascending=False).head(20), columns = ['Count'])\n",
    "adidas_top_bi"
   ]
  },
  {
   "cell_type": "code",
   "execution_count": 62,
   "id": "90e95bc3",
   "metadata": {},
   "outputs": [
    {
     "name": "stdout",
     "output_type": "stream",
     "text": [
      "['does know']\n"
     ]
    }
   ],
   "source": [
    "both_bigram = []\n",
    "for i in range(20):\n",
    "    for j in range(20):\n",
    "        if nike_top_bi.index[i] == adidas_top_bi.index[j]:\n",
    "            both_bigram.append(nike_top_bi.index[i])\n",
    "print(both_bigram)"
   ]
  },
  {
   "cell_type": "markdown",
   "id": "dceedbf2",
   "metadata": {},
   "source": [
    "We can identify a few words that are related to each brand.\n",
    "\n",
    "**Nike**\n",
    "- Style Names/Colourway: 'air max'/'airmax 95', 'air force', 'jordan 1s', 'photon dust'\n",
    "- Product/Features: 'basketball shoes', 'lace loops', 'flex experience', 'reflective lace'\n",
    "\n",
    "**Adidas**\n",
    "- Style Names/Association: 'nmd r1', 'shoes boost', 'kanye west'\n",
    "- Product/Features: 'track jacket', 'boost sole'\n",
    "- UX/Service: 'confirmed app', 'store pickup', 'adidas website'\n"
   ]
  },
  {
   "cell_type": "markdown",
   "id": "6108b297",
   "metadata": {},
   "source": [
    "### 20 Most Common Trigram"
   ]
  },
  {
   "cell_type": "markdown",
   "id": "bb7008a9",
   "metadata": {},
   "source": [
    "#### Nike"
   ]
  },
  {
   "cell_type": "code",
   "execution_count": 63,
   "id": "44e1c217",
   "metadata": {},
   "outputs": [],
   "source": [
    "cv_trigrams = CountVectorizer(ngram_range=(3, 3), stop_words='english')\n",
    "cv_trigrams.fit(nike['text'])\n",
    "\n",
    "nike_bigrams_cv = cv_trigrams.transform(nike['text'])\n",
    "nike_trigrams_df = pd.DataFrame(nike_bigrams_cv.todense(), columns=cv_trigrams.get_feature_names())"
   ]
  },
  {
   "cell_type": "code",
   "execution_count": 64,
   "id": "01f5a48e",
   "metadata": {},
   "outputs": [
    {
     "data": {
      "text/html": [
       "<div>\n",
       "<style scoped>\n",
       "    .dataframe tbody tr th:only-of-type {\n",
       "        vertical-align: middle;\n",
       "    }\n",
       "\n",
       "    .dataframe tbody tr th {\n",
       "        vertical-align: top;\n",
       "    }\n",
       "\n",
       "    .dataframe thead th {\n",
       "        text-align: right;\n",
       "    }\n",
       "</style>\n",
       "<table border=\"1\" class=\"dataframe\">\n",
       "  <thead>\n",
       "    <tr style=\"text-align: right;\">\n",
       "      <th></th>\n",
       "      <th>Count</th>\n",
       "    </tr>\n",
       "  </thead>\n",
       "  <tbody>\n",
       "    <tr>\n",
       "      <th>reflective lace loops</th>\n",
       "      <td>295</td>\n",
       "    </tr>\n",
       "    <tr>\n",
       "      <th>lace loops 95s</th>\n",
       "      <td>295</td>\n",
       "    </tr>\n",
       "    <tr>\n",
       "      <th>photon dust reflective</th>\n",
       "      <td>295</td>\n",
       "    </tr>\n",
       "    <tr>\n",
       "      <th>guys date tag</th>\n",
       "      <td>198</td>\n",
       "    </tr>\n",
       "    <tr>\n",
       "      <th>air max 95</th>\n",
       "      <td>198</td>\n",
       "    </tr>\n",
       "    <tr>\n",
       "      <th>air max plus</th>\n",
       "      <td>198</td>\n",
       "    </tr>\n",
       "    <tr>\n",
       "      <th>date tag tell</th>\n",
       "      <td>198</td>\n",
       "    </tr>\n",
       "    <tr>\n",
       "      <th>hey guys date</th>\n",
       "      <td>198</td>\n",
       "    </tr>\n",
       "    <tr>\n",
       "      <th>tag tell legit</th>\n",
       "      <td>198</td>\n",
       "    </tr>\n",
       "    <tr>\n",
       "      <th>tell legit thank</th>\n",
       "      <td>198</td>\n",
       "    </tr>\n",
       "    <tr>\n",
       "      <th>colour photon dust</th>\n",
       "      <td>197</td>\n",
       "    </tr>\n",
       "    <tr>\n",
       "      <th>reflective help pls</th>\n",
       "      <td>196</td>\n",
       "    </tr>\n",
       "    <tr>\n",
       "      <th>dust reflective help</th>\n",
       "      <td>196</td>\n",
       "    </tr>\n",
       "    <tr>\n",
       "      <th>bought jordan 1s</th>\n",
       "      <td>100</td>\n",
       "    </tr>\n",
       "    <tr>\n",
       "      <th>know nike shoes</th>\n",
       "      <td>100</td>\n",
       "    </tr>\n",
       "    <tr>\n",
       "      <th>air force 1s</th>\n",
       "      <td>100</td>\n",
       "    </tr>\n",
       "    <tr>\n",
       "      <th>know right subreddit</th>\n",
       "      <td>100</td>\n",
       "    </tr>\n",
       "    <tr>\n",
       "      <th>drop follow instagram</th>\n",
       "      <td>99</td>\n",
       "    </tr>\n",
       "    <tr>\n",
       "      <th>mens dunks time</th>\n",
       "      <td>99</td>\n",
       "    </tr>\n",
       "    <tr>\n",
       "      <th>mens drop friday</th>\n",
       "      <td>99</td>\n",
       "    </tr>\n",
       "  </tbody>\n",
       "</table>\n",
       "</div>"
      ],
      "text/plain": [
       "                        Count\n",
       "reflective lace loops     295\n",
       "lace loops 95s            295\n",
       "photon dust reflective    295\n",
       "guys date tag             198\n",
       "air max 95                198\n",
       "air max plus              198\n",
       "date tag tell             198\n",
       "hey guys date             198\n",
       "tag tell legit            198\n",
       "tell legit thank          198\n",
       "colour photon dust        197\n",
       "reflective help pls       196\n",
       "dust reflective help      196\n",
       "bought jordan 1s          100\n",
       "know nike shoes           100\n",
       "air force 1s              100\n",
       "know right subreddit      100\n",
       "drop follow instagram      99\n",
       "mens dunks time            99\n",
       "mens drop friday           99"
      ]
     },
     "execution_count": 64,
     "metadata": {},
     "output_type": "execute_result"
    }
   ],
   "source": [
    "nike_top_tri = pd.DataFrame(nike_trigrams_df.sum().sort_values(ascending=False).head(20), columns = ['Count'])\n",
    "nike_top_tri"
   ]
  },
  {
   "cell_type": "markdown",
   "id": "a2d3a782",
   "metadata": {},
   "source": [
    "#### Adidas"
   ]
  },
  {
   "cell_type": "code",
   "execution_count": 65,
   "id": "9117c9b1",
   "metadata": {},
   "outputs": [],
   "source": [
    "cv_trigrams.fit(adidas['text'])\n",
    "\n",
    "adidas_bigrams_cv = cv_trigrams.transform(adidas['text'])\n",
    "adidas_trigrams_df = pd.DataFrame(adidas_bigrams_cv.todense(), columns=cv_trigrams.get_feature_names())"
   ]
  },
  {
   "cell_type": "code",
   "execution_count": 66,
   "id": "3d371c44",
   "metadata": {},
   "outputs": [
    {
     "data": {
      "text/html": [
       "<div>\n",
       "<style scoped>\n",
       "    .dataframe tbody tr th:only-of-type {\n",
       "        vertical-align: middle;\n",
       "    }\n",
       "\n",
       "    .dataframe tbody tr th {\n",
       "        vertical-align: top;\n",
       "    }\n",
       "\n",
       "    .dataframe thead th {\n",
       "        text-align: right;\n",
       "    }\n",
       "</style>\n",
       "<table border=\"1\" class=\"dataframe\">\n",
       "  <thead>\n",
       "    <tr style=\"text-align: right;\">\n",
       "      <th></th>\n",
       "      <th>Count</th>\n",
       "    </tr>\n",
       "  </thead>\n",
       "  <tbody>\n",
       "    <tr>\n",
       "      <th>bought adicolor classics</th>\n",
       "      <td>114</td>\n",
       "    </tr>\n",
       "    <tr>\n",
       "      <th>classics primeblue sst</th>\n",
       "      <td>114</td>\n",
       "    </tr>\n",
       "    <tr>\n",
       "      <th>adicolor classics primeblue</th>\n",
       "      <td>114</td>\n",
       "    </tr>\n",
       "    <tr>\n",
       "      <th>primeblue sst track</th>\n",
       "      <td>114</td>\n",
       "    </tr>\n",
       "    <tr>\n",
       "      <th>sure age like</th>\n",
       "      <td>113</td>\n",
       "    </tr>\n",
       "    <tr>\n",
       "      <th>mean know look</th>\n",
       "      <td>113</td>\n",
       "    </tr>\n",
       "    <tr>\n",
       "      <th>comfy sure age</th>\n",
       "      <td>113</td>\n",
       "    </tr>\n",
       "    <tr>\n",
       "      <th>need sizing help</th>\n",
       "      <td>113</td>\n",
       "    </tr>\n",
       "    <tr>\n",
       "      <th>term usage reviews</th>\n",
       "      <td>113</td>\n",
       "    </tr>\n",
       "    <tr>\n",
       "      <th>boosts durable mean</th>\n",
       "      <td>113</td>\n",
       "    </tr>\n",
       "    <tr>\n",
       "      <th>hella comfy sure</th>\n",
       "      <td>113</td>\n",
       "    </tr>\n",
       "    <tr>\n",
       "      <th>age like long</th>\n",
       "      <td>113</td>\n",
       "    </tr>\n",
       "    <tr>\n",
       "      <th>like long term</th>\n",
       "      <td>113</td>\n",
       "    </tr>\n",
       "    <tr>\n",
       "      <th>know look good</th>\n",
       "      <td>113</td>\n",
       "    </tr>\n",
       "    <tr>\n",
       "      <th>22 boosts durable</th>\n",
       "      <td>113</td>\n",
       "    </tr>\n",
       "    <tr>\n",
       "      <th>cut ties kanye</th>\n",
       "      <td>113</td>\n",
       "    </tr>\n",
       "    <tr>\n",
       "      <th>zx 22 boosts</th>\n",
       "      <td>113</td>\n",
       "    </tr>\n",
       "    <tr>\n",
       "      <th>good hella comfy</th>\n",
       "      <td>113</td>\n",
       "    </tr>\n",
       "    <tr>\n",
       "      <th>durable mean know</th>\n",
       "      <td>113</td>\n",
       "    </tr>\n",
       "    <tr>\n",
       "      <th>ties kanye west</th>\n",
       "      <td>113</td>\n",
       "    </tr>\n",
       "  </tbody>\n",
       "</table>\n",
       "</div>"
      ],
      "text/plain": [
       "                             Count\n",
       "bought adicolor classics       114\n",
       "classics primeblue sst         114\n",
       "adicolor classics primeblue    114\n",
       "primeblue sst track            114\n",
       "sure age like                  113\n",
       "mean know look                 113\n",
       "comfy sure age                 113\n",
       "need sizing help               113\n",
       "term usage reviews             113\n",
       "boosts durable mean            113\n",
       "hella comfy sure               113\n",
       "age like long                  113\n",
       "like long term                 113\n",
       "know look good                 113\n",
       "22 boosts durable              113\n",
       "cut ties kanye                 113\n",
       "zx 22 boosts                   113\n",
       "good hella comfy               113\n",
       "durable mean know              113\n",
       "ties kanye west                113"
      ]
     },
     "execution_count": 66,
     "metadata": {},
     "output_type": "execute_result"
    }
   ],
   "source": [
    "adidas_top_tri = pd.DataFrame(adidas_trigrams_df.sum().sort_values(ascending=False).head(20), columns = ['Count'])\n",
    "adidas_top_tri"
   ]
  },
  {
   "cell_type": "markdown",
   "id": "55ab6376",
   "metadata": {},
   "source": [
    "Now we can see the combined word make more sense and more distinctive.\n",
    "\n",
    "**Nike**\n",
    "- Style Names/Colourway: 'photon dust reflective', 'air max 95', 'air max plus', 'colour photon dust', 'bought jordan 1s', 'air force 1s', 'mens dunks time'\n",
    "- Product/Features: 'reflective lace loops', 'lace loops 95s' \n",
    "\n",
    "**Adidas**\n",
    "- Style Names/Colourway: 'bought adicolor classics', 'classics primeblue sst', 'adicolor classics primeblue', 'primeblue sst track', '22 boosts durable', 'zx 22 boosts'\n",
    "- Product/Features: 'comfy sure age', 'like long term', 'boosts durable mean'\n",
    "- Association: 'cut ties kanye', 'ties kanye west', 'adidas website'"
   ]
  },
  {
   "cell_type": "markdown",
   "id": "5ec6cfd5",
   "metadata": {},
   "source": [
    "### 20 Most Common Words using TF-IDF"
   ]
  },
  {
   "cell_type": "markdown",
   "id": "6e3431c0",
   "metadata": {},
   "source": [
    "#### Nike"
   ]
  },
  {
   "cell_type": "code",
   "execution_count": 67,
   "id": "26d3d76e",
   "metadata": {},
   "outputs": [],
   "source": [
    "tfidf = TfidfVectorizer(stop_words='english')#, min_df=3, max_df=1.0)\n",
    "\n",
    "nike_tfidf = tfidf.fit_transform(nike['text'])\n",
    "nike_tfidf_df = pd.DataFrame(nike_tfidf.toarray(), columns=tfidf.get_feature_names())"
   ]
  },
  {
   "cell_type": "code",
   "execution_count": 68,
   "id": "a5ce4c7f",
   "metadata": {},
   "outputs": [
    {
     "data": {
      "text/plain": [
       "(5000, 1165)"
      ]
     },
     "execution_count": 68,
     "metadata": {},
     "output_type": "execute_result"
    }
   ],
   "source": [
    "nike_tfidf_df.shape"
   ]
  },
  {
   "cell_type": "code",
   "execution_count": 69,
   "id": "65240899",
   "metadata": {},
   "outputs": [],
   "source": [
    "nike_tfidf_col = {col: [nike_tfidf_df[col].max(), \n",
    "                        nike_tfidf_df[col].mean(),\n",
    "                        nike_tfidf_df[col].sum()] for col in nike_tfidf_df.columns}\n",
    "\n",
    "nike_tfidf_col_df = pd.DataFrame(nike_tfidf_col, index = ['max','mean','sum']).T"
   ]
  },
  {
   "cell_type": "code",
   "execution_count": 70,
   "id": "feed65f7",
   "metadata": {},
   "outputs": [
    {
     "data": {
      "text/html": [
       "<div>\n",
       "<style scoped>\n",
       "    .dataframe tbody tr th:only-of-type {\n",
       "        vertical-align: middle;\n",
       "    }\n",
       "\n",
       "    .dataframe tbody tr th {\n",
       "        vertical-align: top;\n",
       "    }\n",
       "\n",
       "    .dataframe thead th {\n",
       "        text-align: right;\n",
       "    }\n",
       "</style>\n",
       "<table border=\"1\" class=\"dataframe\">\n",
       "  <thead>\n",
       "    <tr style=\"text-align: right;\">\n",
       "      <th></th>\n",
       "      <th>max</th>\n",
       "      <th>mean</th>\n",
       "      <th>sum</th>\n",
       "    </tr>\n",
       "  </thead>\n",
       "  <tbody>\n",
       "    <tr>\n",
       "      <th>bottoms</th>\n",
       "      <td>0.751458</td>\n",
       "      <td>0.000193</td>\n",
       "      <td>0.966005</td>\n",
       "    </tr>\n",
       "    <tr>\n",
       "      <th>label</th>\n",
       "      <td>0.689760</td>\n",
       "      <td>0.000138</td>\n",
       "      <td>0.689760</td>\n",
       "    </tr>\n",
       "    <tr>\n",
       "      <th>grip</th>\n",
       "      <td>0.674640</td>\n",
       "      <td>0.000135</td>\n",
       "      <td>0.674640</td>\n",
       "    </tr>\n",
       "    <tr>\n",
       "      <th>sc</th>\n",
       "      <td>0.652106</td>\n",
       "      <td>0.000130</td>\n",
       "      <td>0.652106</td>\n",
       "    </tr>\n",
       "    <tr>\n",
       "      <th>cool</th>\n",
       "      <td>0.647814</td>\n",
       "      <td>0.000130</td>\n",
       "      <td>0.647814</td>\n",
       "    </tr>\n",
       "    <tr>\n",
       "      <th>bag</th>\n",
       "      <td>0.631582</td>\n",
       "      <td>0.000126</td>\n",
       "      <td>0.631582</td>\n",
       "    </tr>\n",
       "    <tr>\n",
       "      <th>pants</th>\n",
       "      <td>0.629302</td>\n",
       "      <td>0.000298</td>\n",
       "      <td>1.489936</td>\n",
       "    </tr>\n",
       "    <tr>\n",
       "      <th>customize</th>\n",
       "      <td>0.620546</td>\n",
       "      <td>0.000124</td>\n",
       "      <td>0.620546</td>\n",
       "    </tr>\n",
       "    <tr>\n",
       "      <th>notifications</th>\n",
       "      <td>0.613902</td>\n",
       "      <td>0.000123</td>\n",
       "      <td>0.613902</td>\n",
       "    </tr>\n",
       "    <tr>\n",
       "      <th>stains</th>\n",
       "      <td>0.596438</td>\n",
       "      <td>0.011809</td>\n",
       "      <td>59.047333</td>\n",
       "    </tr>\n",
       "    <tr>\n",
       "      <th>free</th>\n",
       "      <td>0.594038</td>\n",
       "      <td>0.000119</td>\n",
       "      <td>0.594038</td>\n",
       "    </tr>\n",
       "    <tr>\n",
       "      <th>guy</th>\n",
       "      <td>0.594038</td>\n",
       "      <td>0.000119</td>\n",
       "      <td>0.594038</td>\n",
       "    </tr>\n",
       "    <tr>\n",
       "      <th>community</th>\n",
       "      <td>0.582600</td>\n",
       "      <td>0.011535</td>\n",
       "      <td>57.677445</td>\n",
       "    </tr>\n",
       "    <tr>\n",
       "      <th>birthday</th>\n",
       "      <td>0.571189</td>\n",
       "      <td>0.000114</td>\n",
       "      <td>0.571189</td>\n",
       "    </tr>\n",
       "    <tr>\n",
       "      <th>discount</th>\n",
       "      <td>0.571189</td>\n",
       "      <td>0.000114</td>\n",
       "      <td>0.571189</td>\n",
       "    </tr>\n",
       "    <tr>\n",
       "      <th>mens</th>\n",
       "      <td>0.570039</td>\n",
       "      <td>0.014460</td>\n",
       "      <td>72.299414</td>\n",
       "    </tr>\n",
       "    <tr>\n",
       "      <th>clothing</th>\n",
       "      <td>0.561425</td>\n",
       "      <td>0.000112</td>\n",
       "      <td>0.561425</td>\n",
       "    </tr>\n",
       "    <tr>\n",
       "      <th>height</th>\n",
       "      <td>0.559864</td>\n",
       "      <td>0.010973</td>\n",
       "      <td>54.866651</td>\n",
       "    </tr>\n",
       "    <tr>\n",
       "      <th>max</th>\n",
       "      <td>0.556266</td>\n",
       "      <td>0.011087</td>\n",
       "      <td>55.432655</td>\n",
       "    </tr>\n",
       "    <tr>\n",
       "      <th>2014</th>\n",
       "      <td>0.555179</td>\n",
       "      <td>0.000111</td>\n",
       "      <td>0.555179</td>\n",
       "    </tr>\n",
       "  </tbody>\n",
       "</table>\n",
       "</div>"
      ],
      "text/plain": [
       "                    max      mean        sum\n",
       "bottoms        0.751458  0.000193   0.966005\n",
       "label          0.689760  0.000138   0.689760\n",
       "grip           0.674640  0.000135   0.674640\n",
       "sc             0.652106  0.000130   0.652106\n",
       "cool           0.647814  0.000130   0.647814\n",
       "bag            0.631582  0.000126   0.631582\n",
       "pants          0.629302  0.000298   1.489936\n",
       "customize      0.620546  0.000124   0.620546\n",
       "notifications  0.613902  0.000123   0.613902\n",
       "stains         0.596438  0.011809  59.047333\n",
       "free           0.594038  0.000119   0.594038\n",
       "guy            0.594038  0.000119   0.594038\n",
       "community      0.582600  0.011535  57.677445\n",
       "birthday       0.571189  0.000114   0.571189\n",
       "discount       0.571189  0.000114   0.571189\n",
       "mens           0.570039  0.014460  72.299414\n",
       "clothing       0.561425  0.000112   0.561425\n",
       "height         0.559864  0.010973  54.866651\n",
       "max            0.556266  0.011087  55.432655\n",
       "2014           0.555179  0.000111   0.555179"
      ]
     },
     "execution_count": 70,
     "metadata": {},
     "output_type": "execute_result"
    }
   ],
   "source": [
    "nike_tfidf_col_df.sort_values(by = ['max','sum'], ascending = False).head(20)\n"
   ]
  },
  {
   "cell_type": "markdown",
   "id": "aef2715a",
   "metadata": {},
   "source": [
    "#### Adidas"
   ]
  },
  {
   "cell_type": "code",
   "execution_count": 71,
   "id": "c506eff3",
   "metadata": {},
   "outputs": [],
   "source": [
    "adidas_tfidf = tfidf.fit_transform(adidas['text'])\n",
    "adidas_tfidf_df = pd.DataFrame(adidas_tfidf.toarray(), columns=tfidf.get_feature_names())"
   ]
  },
  {
   "cell_type": "code",
   "execution_count": 72,
   "id": "9b471d28",
   "metadata": {},
   "outputs": [
    {
     "data": {
      "text/plain": [
       "(5000, 1377)"
      ]
     },
     "execution_count": 72,
     "metadata": {},
     "output_type": "execute_result"
    }
   ],
   "source": [
    "adidas_tfidf_df.shape"
   ]
  },
  {
   "cell_type": "code",
   "execution_count": 73,
   "id": "29698b7d",
   "metadata": {},
   "outputs": [],
   "source": [
    "adidas_tfidf_col = {col: [adidas_tfidf_df[col].max(), \n",
    "                          adidas_tfidf_df[col].mean(),\n",
    "                          adidas_tfidf_df[col].sum()] for col in adidas_tfidf_df.columns}\n",
    "\n",
    "adidas_tfidf_col_df = pd.DataFrame(adidas_tfidf_col, index = ['max','mean','sum']).T"
   ]
  },
  {
   "cell_type": "code",
   "execution_count": 74,
   "id": "93cbdc9a",
   "metadata": {},
   "outputs": [
    {
     "data": {
      "text/html": [
       "<div>\n",
       "<style scoped>\n",
       "    .dataframe tbody tr th:only-of-type {\n",
       "        vertical-align: middle;\n",
       "    }\n",
       "\n",
       "    .dataframe tbody tr th {\n",
       "        vertical-align: top;\n",
       "    }\n",
       "\n",
       "    .dataframe thead th {\n",
       "        text-align: right;\n",
       "    }\n",
       "</style>\n",
       "<table border=\"1\" class=\"dataframe\">\n",
       "  <thead>\n",
       "    <tr style=\"text-align: right;\">\n",
       "      <th></th>\n",
       "      <th>max</th>\n",
       "      <th>mean</th>\n",
       "      <th>sum</th>\n",
       "    </tr>\n",
       "  </thead>\n",
       "  <tbody>\n",
       "    <tr>\n",
       "      <th>shirt</th>\n",
       "      <td>0.751104</td>\n",
       "      <td>0.000178</td>\n",
       "      <td>0.891643</td>\n",
       "    </tr>\n",
       "    <tr>\n",
       "      <th>hoodie</th>\n",
       "      <td>0.747451</td>\n",
       "      <td>0.008222</td>\n",
       "      <td>41.109790</td>\n",
       "    </tr>\n",
       "    <tr>\n",
       "      <th>0s</th>\n",
       "      <td>0.734732</td>\n",
       "      <td>0.002495</td>\n",
       "      <td>12.475973</td>\n",
       "    </tr>\n",
       "    <tr>\n",
       "      <th>4d</th>\n",
       "      <td>0.688850</td>\n",
       "      <td>0.007577</td>\n",
       "      <td>37.886767</td>\n",
       "    </tr>\n",
       "    <tr>\n",
       "      <th>woman</th>\n",
       "      <td>0.674465</td>\n",
       "      <td>0.000135</td>\n",
       "      <td>0.674465</td>\n",
       "    </tr>\n",
       "    <tr>\n",
       "      <th>waterproof</th>\n",
       "      <td>0.672673</td>\n",
       "      <td>0.000135</td>\n",
       "      <td>0.672673</td>\n",
       "    </tr>\n",
       "    <tr>\n",
       "      <th>ups</th>\n",
       "      <td>0.667378</td>\n",
       "      <td>0.007475</td>\n",
       "      <td>37.373193</td>\n",
       "    </tr>\n",
       "    <tr>\n",
       "      <th>grow</th>\n",
       "      <td>0.638540</td>\n",
       "      <td>0.007279</td>\n",
       "      <td>36.396757</td>\n",
       "    </tr>\n",
       "    <tr>\n",
       "      <th>difference</th>\n",
       "      <td>0.629057</td>\n",
       "      <td>0.014936</td>\n",
       "      <td>74.679806</td>\n",
       "    </tr>\n",
       "    <tr>\n",
       "      <th>purple</th>\n",
       "      <td>0.628461</td>\n",
       "      <td>0.007164</td>\n",
       "      <td>35.822270</td>\n",
       "    </tr>\n",
       "    <tr>\n",
       "      <th>laces</th>\n",
       "      <td>0.625841</td>\n",
       "      <td>0.013860</td>\n",
       "      <td>69.301530</td>\n",
       "    </tr>\n",
       "    <tr>\n",
       "      <th>points</th>\n",
       "      <td>0.617648</td>\n",
       "      <td>0.006918</td>\n",
       "      <td>34.588267</td>\n",
       "    </tr>\n",
       "    <tr>\n",
       "      <th>firebird</th>\n",
       "      <td>0.593274</td>\n",
       "      <td>0.006645</td>\n",
       "      <td>33.223361</td>\n",
       "    </tr>\n",
       "    <tr>\n",
       "      <th>boost</th>\n",
       "      <td>0.591111</td>\n",
       "      <td>0.011074</td>\n",
       "      <td>55.368218</td>\n",
       "    </tr>\n",
       "    <tr>\n",
       "      <th>shirts</th>\n",
       "      <td>0.589232</td>\n",
       "      <td>0.000118</td>\n",
       "      <td>0.589232</td>\n",
       "    </tr>\n",
       "    <tr>\n",
       "      <th>thicker</th>\n",
       "      <td>0.589232</td>\n",
       "      <td>0.000118</td>\n",
       "      <td>0.589232</td>\n",
       "    </tr>\n",
       "    <tr>\n",
       "      <th>smith</th>\n",
       "      <td>0.578820</td>\n",
       "      <td>0.000307</td>\n",
       "      <td>1.535577</td>\n",
       "    </tr>\n",
       "    <tr>\n",
       "      <th>bring</th>\n",
       "      <td>0.564916</td>\n",
       "      <td>0.006440</td>\n",
       "      <td>32.200210</td>\n",
       "    </tr>\n",
       "    <tr>\n",
       "      <th>plastic</th>\n",
       "      <td>0.553563</td>\n",
       "      <td>0.006089</td>\n",
       "      <td>30.445938</td>\n",
       "    </tr>\n",
       "    <tr>\n",
       "      <th>confirmation</th>\n",
       "      <td>0.549286</td>\n",
       "      <td>0.006152</td>\n",
       "      <td>30.760040</td>\n",
       "    </tr>\n",
       "  </tbody>\n",
       "</table>\n",
       "</div>"
      ],
      "text/plain": [
       "                   max      mean        sum\n",
       "shirt         0.751104  0.000178   0.891643\n",
       "hoodie        0.747451  0.008222  41.109790\n",
       "0s            0.734732  0.002495  12.475973\n",
       "4d            0.688850  0.007577  37.886767\n",
       "woman         0.674465  0.000135   0.674465\n",
       "waterproof    0.672673  0.000135   0.672673\n",
       "ups           0.667378  0.007475  37.373193\n",
       "grow          0.638540  0.007279  36.396757\n",
       "difference    0.629057  0.014936  74.679806\n",
       "purple        0.628461  0.007164  35.822270\n",
       "laces         0.625841  0.013860  69.301530\n",
       "points        0.617648  0.006918  34.588267\n",
       "firebird      0.593274  0.006645  33.223361\n",
       "boost         0.591111  0.011074  55.368218\n",
       "shirts        0.589232  0.000118   0.589232\n",
       "thicker       0.589232  0.000118   0.589232\n",
       "smith         0.578820  0.000307   1.535577\n",
       "bring         0.564916  0.006440  32.200210\n",
       "plastic       0.553563  0.006089  30.445938\n",
       "confirmation  0.549286  0.006152  30.760040"
      ]
     },
     "execution_count": 74,
     "metadata": {},
     "output_type": "execute_result"
    }
   ],
   "source": [
    "adidas_tfidf_col_df.sort_values(by = ['max','sum'], ascending = False).head(20)\n"
   ]
  },
  {
   "cell_type": "markdown",
   "id": "a14f06d9",
   "metadata": {},
   "source": [
    "Using TF-IDF to find common words, we notice that the words are less distinctive to individual brand."
   ]
  },
  {
   "cell_type": "markdown",
   "id": "3b61cc4a",
   "metadata": {},
   "source": [
    "### Sentiment Analysis"
   ]
  },
  {
   "cell_type": "code",
   "execution_count": 75,
   "id": "dc1f7710",
   "metadata": {},
   "outputs": [],
   "source": [
    "sent = SentimentIntensityAnalyzer()\n",
    "nike_sent = [sent.polarity_scores(i) for i in nike.text]\n",
    "adidas_sent = [sent.polarity_scores(i) for i in adidas.text]"
   ]
  },
  {
   "cell_type": "code",
   "execution_count": 76,
   "id": "0409e61c",
   "metadata": {},
   "outputs": [
    {
     "data": {
      "text/html": [
       "<div>\n",
       "<style scoped>\n",
       "    .dataframe tbody tr th:only-of-type {\n",
       "        vertical-align: middle;\n",
       "    }\n",
       "\n",
       "    .dataframe tbody tr th {\n",
       "        vertical-align: top;\n",
       "    }\n",
       "\n",
       "    .dataframe thead th {\n",
       "        text-align: right;\n",
       "    }\n",
       "</style>\n",
       "<table border=\"1\" class=\"dataframe\">\n",
       "  <thead>\n",
       "    <tr style=\"text-align: right;\">\n",
       "      <th></th>\n",
       "      <th>neg</th>\n",
       "      <th>neu</th>\n",
       "      <th>pos</th>\n",
       "      <th>compound</th>\n",
       "    </tr>\n",
       "  </thead>\n",
       "  <tbody>\n",
       "    <tr>\n",
       "      <th>0</th>\n",
       "      <td>0.058</td>\n",
       "      <td>0.942</td>\n",
       "      <td>0.000</td>\n",
       "      <td>-0.2144</td>\n",
       "    </tr>\n",
       "    <tr>\n",
       "      <th>1</th>\n",
       "      <td>0.118</td>\n",
       "      <td>0.882</td>\n",
       "      <td>0.000</td>\n",
       "      <td>-0.6908</td>\n",
       "    </tr>\n",
       "    <tr>\n",
       "      <th>2</th>\n",
       "      <td>0.000</td>\n",
       "      <td>0.912</td>\n",
       "      <td>0.088</td>\n",
       "      <td>0.1655</td>\n",
       "    </tr>\n",
       "    <tr>\n",
       "      <th>3</th>\n",
       "      <td>0.048</td>\n",
       "      <td>0.849</td>\n",
       "      <td>0.103</td>\n",
       "      <td>0.8374</td>\n",
       "    </tr>\n",
       "    <tr>\n",
       "      <th>4</th>\n",
       "      <td>0.000</td>\n",
       "      <td>0.913</td>\n",
       "      <td>0.087</td>\n",
       "      <td>0.5803</td>\n",
       "    </tr>\n",
       "  </tbody>\n",
       "</table>\n",
       "</div>"
      ],
      "text/plain": [
       "     neg    neu    pos  compound\n",
       "0  0.058  0.942  0.000   -0.2144\n",
       "1  0.118  0.882  0.000   -0.6908\n",
       "2  0.000  0.912  0.088    0.1655\n",
       "3  0.048  0.849  0.103    0.8374\n",
       "4  0.000  0.913  0.087    0.5803"
      ]
     },
     "execution_count": 76,
     "metadata": {},
     "output_type": "execute_result"
    }
   ],
   "source": [
    "nike_sent_df = pd.DataFrame(nike_sent)\n",
    "nike_sent_df.head()"
   ]
  },
  {
   "cell_type": "code",
   "execution_count": 77,
   "id": "bb3c9412",
   "metadata": {},
   "outputs": [
    {
     "data": {
      "text/html": [
       "<div>\n",
       "<style scoped>\n",
       "    .dataframe tbody tr th:only-of-type {\n",
       "        vertical-align: middle;\n",
       "    }\n",
       "\n",
       "    .dataframe tbody tr th {\n",
       "        vertical-align: top;\n",
       "    }\n",
       "\n",
       "    .dataframe thead th {\n",
       "        text-align: right;\n",
       "    }\n",
       "</style>\n",
       "<table border=\"1\" class=\"dataframe\">\n",
       "  <thead>\n",
       "    <tr style=\"text-align: right;\">\n",
       "      <th></th>\n",
       "      <th>neg</th>\n",
       "      <th>neu</th>\n",
       "      <th>pos</th>\n",
       "      <th>compound</th>\n",
       "    </tr>\n",
       "  </thead>\n",
       "  <tbody>\n",
       "    <tr>\n",
       "      <th>0</th>\n",
       "      <td>0.000</td>\n",
       "      <td>0.908</td>\n",
       "      <td>0.092</td>\n",
       "      <td>0.6747</td>\n",
       "    </tr>\n",
       "    <tr>\n",
       "      <th>1</th>\n",
       "      <td>0.000</td>\n",
       "      <td>1.000</td>\n",
       "      <td>0.000</td>\n",
       "      <td>0.0000</td>\n",
       "    </tr>\n",
       "    <tr>\n",
       "      <th>2</th>\n",
       "      <td>0.140</td>\n",
       "      <td>0.860</td>\n",
       "      <td>0.000</td>\n",
       "      <td>-0.5267</td>\n",
       "    </tr>\n",
       "    <tr>\n",
       "      <th>3</th>\n",
       "      <td>0.000</td>\n",
       "      <td>0.916</td>\n",
       "      <td>0.084</td>\n",
       "      <td>0.4329</td>\n",
       "    </tr>\n",
       "    <tr>\n",
       "      <th>4</th>\n",
       "      <td>0.048</td>\n",
       "      <td>0.929</td>\n",
       "      <td>0.022</td>\n",
       "      <td>-0.3182</td>\n",
       "    </tr>\n",
       "  </tbody>\n",
       "</table>\n",
       "</div>"
      ],
      "text/plain": [
       "     neg    neu    pos  compound\n",
       "0  0.000  0.908  0.092    0.6747\n",
       "1  0.000  1.000  0.000    0.0000\n",
       "2  0.140  0.860  0.000   -0.5267\n",
       "3  0.000  0.916  0.084    0.4329\n",
       "4  0.048  0.929  0.022   -0.3182"
      ]
     },
     "execution_count": 77,
     "metadata": {},
     "output_type": "execute_result"
    }
   ],
   "source": [
    "adidas_sent_df = pd.DataFrame(adidas_sent)\n",
    "adidas_sent_df.head()"
   ]
  },
  {
   "cell_type": "code",
   "execution_count": 78,
   "id": "c6bb2968",
   "metadata": {},
   "outputs": [],
   "source": [
    "def senti_rank(data):\n",
    "    data['rank'] = 'neu'\n",
    "    for index, row in enumerate(data['compound']):\n",
    "        if row <= -0.05:\n",
    "            data['rank'][index] = 'neg'\n",
    "        elif row >= 0.05:\n",
    "            data['rank'][index] = 'pos'     \n",
    "    return data.head()"
   ]
  },
  {
   "cell_type": "code",
   "execution_count": 79,
   "id": "c09386c6",
   "metadata": {},
   "outputs": [
    {
     "data": {
      "text/html": [
       "<div>\n",
       "<style scoped>\n",
       "    .dataframe tbody tr th:only-of-type {\n",
       "        vertical-align: middle;\n",
       "    }\n",
       "\n",
       "    .dataframe tbody tr th {\n",
       "        vertical-align: top;\n",
       "    }\n",
       "\n",
       "    .dataframe thead th {\n",
       "        text-align: right;\n",
       "    }\n",
       "</style>\n",
       "<table border=\"1\" class=\"dataframe\">\n",
       "  <thead>\n",
       "    <tr style=\"text-align: right;\">\n",
       "      <th></th>\n",
       "      <th>neg</th>\n",
       "      <th>neu</th>\n",
       "      <th>pos</th>\n",
       "      <th>compound</th>\n",
       "      <th>rank</th>\n",
       "    </tr>\n",
       "  </thead>\n",
       "  <tbody>\n",
       "    <tr>\n",
       "      <th>0</th>\n",
       "      <td>0.058</td>\n",
       "      <td>0.942</td>\n",
       "      <td>0.000</td>\n",
       "      <td>-0.2144</td>\n",
       "      <td>neg</td>\n",
       "    </tr>\n",
       "    <tr>\n",
       "      <th>1</th>\n",
       "      <td>0.118</td>\n",
       "      <td>0.882</td>\n",
       "      <td>0.000</td>\n",
       "      <td>-0.6908</td>\n",
       "      <td>neg</td>\n",
       "    </tr>\n",
       "    <tr>\n",
       "      <th>2</th>\n",
       "      <td>0.000</td>\n",
       "      <td>0.912</td>\n",
       "      <td>0.088</td>\n",
       "      <td>0.1655</td>\n",
       "      <td>pos</td>\n",
       "    </tr>\n",
       "    <tr>\n",
       "      <th>3</th>\n",
       "      <td>0.048</td>\n",
       "      <td>0.849</td>\n",
       "      <td>0.103</td>\n",
       "      <td>0.8374</td>\n",
       "      <td>pos</td>\n",
       "    </tr>\n",
       "    <tr>\n",
       "      <th>4</th>\n",
       "      <td>0.000</td>\n",
       "      <td>0.913</td>\n",
       "      <td>0.087</td>\n",
       "      <td>0.5803</td>\n",
       "      <td>pos</td>\n",
       "    </tr>\n",
       "  </tbody>\n",
       "</table>\n",
       "</div>"
      ],
      "text/plain": [
       "     neg    neu    pos  compound rank\n",
       "0  0.058  0.942  0.000   -0.2144  neg\n",
       "1  0.118  0.882  0.000   -0.6908  neg\n",
       "2  0.000  0.912  0.088    0.1655  pos\n",
       "3  0.048  0.849  0.103    0.8374  pos\n",
       "4  0.000  0.913  0.087    0.5803  pos"
      ]
     },
     "execution_count": 79,
     "metadata": {},
     "output_type": "execute_result"
    }
   ],
   "source": [
    "senti_rank(nike_sent_df)"
   ]
  },
  {
   "cell_type": "code",
   "execution_count": 80,
   "id": "bcfdae64",
   "metadata": {},
   "outputs": [
    {
     "data": {
      "text/html": [
       "<div>\n",
       "<style scoped>\n",
       "    .dataframe tbody tr th:only-of-type {\n",
       "        vertical-align: middle;\n",
       "    }\n",
       "\n",
       "    .dataframe tbody tr th {\n",
       "        vertical-align: top;\n",
       "    }\n",
       "\n",
       "    .dataframe thead th {\n",
       "        text-align: right;\n",
       "    }\n",
       "</style>\n",
       "<table border=\"1\" class=\"dataframe\">\n",
       "  <thead>\n",
       "    <tr style=\"text-align: right;\">\n",
       "      <th></th>\n",
       "      <th>neg</th>\n",
       "      <th>neu</th>\n",
       "      <th>pos</th>\n",
       "      <th>compound</th>\n",
       "      <th>rank</th>\n",
       "    </tr>\n",
       "  </thead>\n",
       "  <tbody>\n",
       "    <tr>\n",
       "      <th>0</th>\n",
       "      <td>0.000</td>\n",
       "      <td>0.908</td>\n",
       "      <td>0.092</td>\n",
       "      <td>0.6747</td>\n",
       "      <td>pos</td>\n",
       "    </tr>\n",
       "    <tr>\n",
       "      <th>1</th>\n",
       "      <td>0.000</td>\n",
       "      <td>1.000</td>\n",
       "      <td>0.000</td>\n",
       "      <td>0.0000</td>\n",
       "      <td>neu</td>\n",
       "    </tr>\n",
       "    <tr>\n",
       "      <th>2</th>\n",
       "      <td>0.140</td>\n",
       "      <td>0.860</td>\n",
       "      <td>0.000</td>\n",
       "      <td>-0.5267</td>\n",
       "      <td>neg</td>\n",
       "    </tr>\n",
       "    <tr>\n",
       "      <th>3</th>\n",
       "      <td>0.000</td>\n",
       "      <td>0.916</td>\n",
       "      <td>0.084</td>\n",
       "      <td>0.4329</td>\n",
       "      <td>pos</td>\n",
       "    </tr>\n",
       "    <tr>\n",
       "      <th>4</th>\n",
       "      <td>0.048</td>\n",
       "      <td>0.929</td>\n",
       "      <td>0.022</td>\n",
       "      <td>-0.3182</td>\n",
       "      <td>neg</td>\n",
       "    </tr>\n",
       "  </tbody>\n",
       "</table>\n",
       "</div>"
      ],
      "text/plain": [
       "     neg    neu    pos  compound rank\n",
       "0  0.000  0.908  0.092    0.6747  pos\n",
       "1  0.000  1.000  0.000    0.0000  neu\n",
       "2  0.140  0.860  0.000   -0.5267  neg\n",
       "3  0.000  0.916  0.084    0.4329  pos\n",
       "4  0.048  0.929  0.022   -0.3182  neg"
      ]
     },
     "execution_count": 80,
     "metadata": {},
     "output_type": "execute_result"
    }
   ],
   "source": [
    "senti_rank(adidas_sent_df)"
   ]
  },
  {
   "cell_type": "code",
   "execution_count": 81,
   "id": "5012ce98",
   "metadata": {},
   "outputs": [
    {
     "data": {
      "text/html": [
       "<div>\n",
       "<style scoped>\n",
       "    .dataframe tbody tr th:only-of-type {\n",
       "        vertical-align: middle;\n",
       "    }\n",
       "\n",
       "    .dataframe tbody tr th {\n",
       "        vertical-align: top;\n",
       "    }\n",
       "\n",
       "    .dataframe thead th {\n",
       "        text-align: right;\n",
       "    }\n",
       "</style>\n",
       "<table border=\"1\" class=\"dataframe\">\n",
       "  <thead>\n",
       "    <tr style=\"text-align: right;\">\n",
       "      <th></th>\n",
       "      <th>neg</th>\n",
       "      <th>neu</th>\n",
       "      <th>pos</th>\n",
       "      <th>compound</th>\n",
       "    </tr>\n",
       "    <tr>\n",
       "      <th>rank</th>\n",
       "      <th></th>\n",
       "      <th></th>\n",
       "      <th></th>\n",
       "      <th></th>\n",
       "    </tr>\n",
       "  </thead>\n",
       "  <tbody>\n",
       "    <tr>\n",
       "      <th>neg</th>\n",
       "      <td>0.130492</td>\n",
       "      <td>0.836601</td>\n",
       "      <td>0.032776</td>\n",
       "      <td>-0.509627</td>\n",
       "    </tr>\n",
       "    <tr>\n",
       "      <th>neu</th>\n",
       "      <td>0.000347</td>\n",
       "      <td>0.999237</td>\n",
       "      <td>0.000416</td>\n",
       "      <td>-0.000028</td>\n",
       "    </tr>\n",
       "    <tr>\n",
       "      <th>pos</th>\n",
       "      <td>0.030890</td>\n",
       "      <td>0.803673</td>\n",
       "      <td>0.165343</td>\n",
       "      <td>0.580226</td>\n",
       "    </tr>\n",
       "  </tbody>\n",
       "</table>\n",
       "</div>"
      ],
      "text/plain": [
       "           neg       neu       pos  compound\n",
       "rank                                        \n",
       "neg   0.130492  0.836601  0.032776 -0.509627\n",
       "neu   0.000347  0.999237  0.000416 -0.000028\n",
       "pos   0.030890  0.803673  0.165343  0.580226"
      ]
     },
     "execution_count": 81,
     "metadata": {},
     "output_type": "execute_result"
    }
   ],
   "source": [
    "nike_sent_df.groupby('rank').mean()"
   ]
  },
  {
   "cell_type": "code",
   "execution_count": 82,
   "id": "a8d6f350",
   "metadata": {},
   "outputs": [
    {
     "data": {
      "text/html": [
       "<div>\n",
       "<style scoped>\n",
       "    .dataframe tbody tr th:only-of-type {\n",
       "        vertical-align: middle;\n",
       "    }\n",
       "\n",
       "    .dataframe tbody tr th {\n",
       "        vertical-align: top;\n",
       "    }\n",
       "\n",
       "    .dataframe thead th {\n",
       "        text-align: right;\n",
       "    }\n",
       "</style>\n",
       "<table border=\"1\" class=\"dataframe\">\n",
       "  <thead>\n",
       "    <tr style=\"text-align: right;\">\n",
       "      <th></th>\n",
       "      <th>neg</th>\n",
       "      <th>neu</th>\n",
       "      <th>pos</th>\n",
       "      <th>compound</th>\n",
       "    </tr>\n",
       "    <tr>\n",
       "      <th>rank</th>\n",
       "      <th></th>\n",
       "      <th></th>\n",
       "      <th></th>\n",
       "      <th></th>\n",
       "    </tr>\n",
       "  </thead>\n",
       "  <tbody>\n",
       "    <tr>\n",
       "      <th>neg</th>\n",
       "      <td>0.119250</td>\n",
       "      <td>0.849780</td>\n",
       "      <td>0.031068</td>\n",
       "      <td>-0.491222</td>\n",
       "    </tr>\n",
       "    <tr>\n",
       "      <th>neu</th>\n",
       "      <td>0.000000</td>\n",
       "      <td>1.000000</td>\n",
       "      <td>0.000000</td>\n",
       "      <td>0.000000</td>\n",
       "    </tr>\n",
       "    <tr>\n",
       "      <th>pos</th>\n",
       "      <td>0.024993</td>\n",
       "      <td>0.838827</td>\n",
       "      <td>0.136215</td>\n",
       "      <td>0.583177</td>\n",
       "    </tr>\n",
       "  </tbody>\n",
       "</table>\n",
       "</div>"
      ],
      "text/plain": [
       "           neg       neu       pos  compound\n",
       "rank                                        \n",
       "neg   0.119250  0.849780  0.031068 -0.491222\n",
       "neu   0.000000  1.000000  0.000000  0.000000\n",
       "pos   0.024993  0.838827  0.136215  0.583177"
      ]
     },
     "execution_count": 82,
     "metadata": {},
     "output_type": "execute_result"
    }
   ],
   "source": [
    "adidas_sent_df.groupby('rank').mean()"
   ]
  },
  {
   "cell_type": "code",
   "execution_count": 83,
   "id": "992ac6a2",
   "metadata": {},
   "outputs": [
    {
     "data": {
      "text/plain": [
       "pos    62.18\n",
       "neg    29.80\n",
       "neu     8.02\n",
       "Name: rank, dtype: float64"
      ]
     },
     "execution_count": 83,
     "metadata": {},
     "output_type": "execute_result"
    }
   ],
   "source": [
    "nike_sent_df['rank'].value_counts()*100/len(nike_sent_df)"
   ]
  },
  {
   "cell_type": "code",
   "execution_count": 84,
   "id": "ea6694ae",
   "metadata": {},
   "outputs": [
    {
     "data": {
      "text/plain": [
       "pos    64.76\n",
       "neg    22.84\n",
       "neu    12.40\n",
       "Name: rank, dtype: float64"
      ]
     },
     "execution_count": 84,
     "metadata": {},
     "output_type": "execute_result"
    }
   ],
   "source": [
    "adidas_sent_df['rank'].value_counts()*100/len(adidas_sent_df)"
   ]
  },
  {
   "cell_type": "markdown",
   "id": "1ddca3d0",
   "metadata": {},
   "source": [
    "From the graph below we can see how the Sentiment score is distributed between the two subreddit Nike and Adidas. We will compare between the warious mertics: 'compound', 'neg', 'neu' and 'pos'"
   ]
  },
  {
   "cell_type": "code",
   "execution_count": 110,
   "id": "3c9b2a82",
   "metadata": {},
   "outputs": [
    {
     "data": {
      "image/png": "[encoded data removed]",
      "text/plain": [
       "<Figure size 432x576 with 1 Axes>"
      ]
     },
     "metadata": {
      "needs_background": "light"
     },
     "output_type": "display_data"
    }
   ],
   "source": [
    "# fig, ax = plt.subplots(figsize=(9,5))\n",
    "# sns.barplot(x='Count', y=rank.index , data=nike_top_words)\n",
    "\n",
    "plt.figure(figsize=(6,8))\n",
    "plt.hist([nike_sent_df['compound'], adidas_sent_df['compound']],\n",
    "         bins=3, color=['blue', 'orange'], ec='k')\n",
    "\n",
    "plt.title('Sentiment Score Distribution Between Nike and Adidas', fontsize=20)\n",
    "plt.legend(['Nike', 'Adidas'])\n",
    "plt.tight_layout()\n",
    "plt.savefig('../chart/nike_adidas_senti.png', bbox_inches='tight')"
   ]
  },
  {
   "cell_type": "code",
   "execution_count": 76,
   "id": "cb414956",
   "metadata": {
    "scrolled": false
   },
   "outputs": [
    {
     "data": {
      "image/png": "[encoded data removed]",
      "text/plain": [
       "<Figure size 1152x576 with 1 Axes>"
      ]
     },
     "metadata": {
      "needs_background": "light"
     },
     "output_type": "display_data"
    }
   ],
   "source": [
    "plt.figure(figsize=(16,8))\n",
    "plt.hist([nike_sent_df['neg'], \n",
    "          adidas_sent_df['neg']],\n",
    "         bins=30, color=['blue', 'orange'], ec='k')\n",
    "\n",
    "plt.title('Negative Score Distribution Between Nike and Adidas', fontsize=20)\n",
    "plt.legend(['Nike', 'Adidas']);"
   ]
  },
  {
   "cell_type": "code",
   "execution_count": 77,
   "id": "3b24f896",
   "metadata": {
    "scrolled": false
   },
   "outputs": [
    {
     "data": {
      "image/png": "[encoded data removed]",
      "text/plain": [
       "<Figure size 1152x576 with 1 Axes>"
      ]
     },
     "metadata": {
      "needs_background": "light"
     },
     "output_type": "display_data"
    }
   ],
   "source": [
    "plt.figure(figsize=(16,8))\n",
    "plt.hist([nike_sent_df['neu'], \n",
    "          adidas_sent_df['neu']],\n",
    "         bins=30, color=['blue', 'orange'], ec='k')\n",
    "\n",
    "plt.title('Neutral Score Distribution Between Nike and Adidas', fontsize=20)\n",
    "plt.legend(['Nike', 'Adidas']);"
   ]
  },
  {
   "cell_type": "code",
   "execution_count": 78,
   "id": "5b87eb68",
   "metadata": {
    "scrolled": false
   },
   "outputs": [
    {
     "data": {
      "image/png": "[encoded data removed]",
      "text/plain": [
       "<Figure size 1152x576 with 1 Axes>"
      ]
     },
     "metadata": {
      "needs_background": "light"
     },
     "output_type": "display_data"
    }
   ],
   "source": [
    "plt.figure(figsize=(16,8))\n",
    "plt.hist([nike_sent_df['pos'], \n",
    "          adidas_sent_df['pos']],\n",
    "         bins=30, color=['blue', 'orange'], ec='k')\n",
    "\n",
    "plt.title('Positive Score Distribution Between Nike and Adidas', fontsize=20)\n",
    "plt.legend(['Nike', 'Adidas']);"
   ]
  },
  {
   "cell_type": "markdown",
   "id": "f506b95b",
   "metadata": {},
   "source": [
    "Overall scoring on 'compound' shows that Adidas is have more positive posts than Nike, however they also have more negative posts. If we were to combine neutral and positive posts to compare, that will mean that the community using Nike subreddit are posting more positive comments or neutral questions, while Adidas subreddit probably have more user review about their web or app issue and service, which result in higher negative score."
   ]
  },
  {
   "cell_type": "markdown",
   "id": "9cab0833",
   "metadata": {},
   "source": [
    "# Saving Data"
   ]
  },
  {
   "cell_type": "code",
   "execution_count": 79,
   "id": "1cdb41e7",
   "metadata": {},
   "outputs": [],
   "source": [
    "reddit_nlp = pd.concat([nike,adidas], axis=0)"
   ]
  },
  {
   "cell_type": "code",
   "execution_count": 80,
   "id": "9dbdc244",
   "metadata": {},
   "outputs": [],
   "source": [
    "reddit_nlp = reddit_nlp[['subreddit','text']]"
   ]
  },
  {
   "cell_type": "code",
   "execution_count": 81,
   "id": "5a1ac1dc",
   "metadata": {},
   "outputs": [],
   "source": [
    "reddit_nlp['subreddit'] = reddit_nlp['subreddit'].map({'adidas': 0, 'Nike': 1})"
   ]
  },
  {
   "cell_type": "code",
   "execution_count": 82,
   "id": "0380a333",
   "metadata": {},
   "outputs": [
    {
     "data": {
      "text/html": [
       "<div>\n",
       "<style scoped>\n",
       "    .dataframe tbody tr th:only-of-type {\n",
       "        vertical-align: middle;\n",
       "    }\n",
       "\n",
       "    .dataframe tbody tr th {\n",
       "        vertical-align: top;\n",
       "    }\n",
       "\n",
       "    .dataframe thead th {\n",
       "        text-align: right;\n",
       "    }\n",
       "</style>\n",
       "<table border=\"1\" class=\"dataframe\">\n",
       "  <thead>\n",
       "    <tr style=\"text-align: right;\">\n",
       "      <th></th>\n",
       "      <th>subreddit</th>\n",
       "      <th>text</th>\n",
       "    </tr>\n",
       "  </thead>\n",
       "  <tbody>\n",
       "    <tr>\n",
       "      <th>0</th>\n",
       "      <td>1</td>\n",
       "      <td>nike snkrs paypal error Im trying to login wit...</td>\n",
       "    </tr>\n",
       "    <tr>\n",
       "      <th>1</th>\n",
       "      <td>1</td>\n",
       "      <td>Our local courier here in the Philippines lost...</td>\n",
       "    </tr>\n",
       "    <tr>\n",
       "      <th>2</th>\n",
       "      <td>1</td>\n",
       "      <td>What jacket is this? I know this is vintage an...</td>\n",
       "    </tr>\n",
       "    <tr>\n",
       "      <th>3</th>\n",
       "      <td>1</td>\n",
       "      <td>Burned on the dunk drop today. So I’m just get...</td>\n",
       "    </tr>\n",
       "    <tr>\n",
       "      <th>4</th>\n",
       "      <td>1</td>\n",
       "      <td>Is there anyway to restore the grip on a pair ...</td>\n",
       "    </tr>\n",
       "    <tr>\n",
       "      <th>...</th>\n",
       "      <td>...</td>\n",
       "      <td>...</td>\n",
       "    </tr>\n",
       "    <tr>\n",
       "      <th>4995</th>\n",
       "      <td>0</td>\n",
       "      <td>Ultraboost 22 vs 4DFWD2? Just what the title s...</td>\n",
       "    </tr>\n",
       "    <tr>\n",
       "      <th>4996</th>\n",
       "      <td>0</td>\n",
       "      <td>No order confirmation So yesterday I won the y...</td>\n",
       "    </tr>\n",
       "    <tr>\n",
       "      <th>4997</th>\n",
       "      <td>0</td>\n",
       "      <td>Im thinking about buying the firebird primeblu...</td>\n",
       "    </tr>\n",
       "    <tr>\n",
       "      <th>4998</th>\n",
       "      <td>0</td>\n",
       "      <td>Adidas 4DFWD Long term review needed I’m think...</td>\n",
       "    </tr>\n",
       "    <tr>\n",
       "      <th>4999</th>\n",
       "      <td>0</td>\n",
       "      <td>Received a pair of Adidas Continental 80, FY 2...</td>\n",
       "    </tr>\n",
       "  </tbody>\n",
       "</table>\n",
       "<p>10000 rows × 2 columns</p>\n",
       "</div>"
      ],
      "text/plain": [
       "      subreddit                                               text\n",
       "0             1  nike snkrs paypal error Im trying to login wit...\n",
       "1             1  Our local courier here in the Philippines lost...\n",
       "2             1  What jacket is this? I know this is vintage an...\n",
       "3             1  Burned on the dunk drop today. So I’m just get...\n",
       "4             1  Is there anyway to restore the grip on a pair ...\n",
       "...         ...                                                ...\n",
       "4995          0  Ultraboost 22 vs 4DFWD2? Just what the title s...\n",
       "4996          0  No order confirmation So yesterday I won the y...\n",
       "4997          0  Im thinking about buying the firebird primeblu...\n",
       "4998          0  Adidas 4DFWD Long term review needed I’m think...\n",
       "4999          0  Received a pair of Adidas Continental 80, FY 2...\n",
       "\n",
       "[10000 rows x 2 columns]"
      ]
     },
     "execution_count": 82,
     "metadata": {},
     "output_type": "execute_result"
    }
   ],
   "source": [
    "reddit_nlp"
   ]
  },
  {
   "cell_type": "code",
   "execution_count": 83,
   "id": "e375a25d",
   "metadata": {},
   "outputs": [],
   "source": [
    "reddit_nlp = reddit_nlp.reset_index(drop=True)"
   ]
  },
  {
   "cell_type": "code",
   "execution_count": null,
   "id": "dedaac75",
   "metadata": {},
   "outputs": [],
   "source": []
  },
  {
   "cell_type": "code",
   "execution_count": 84,
   "id": "d0e901e2",
   "metadata": {},
   "outputs": [],
   "source": [
    "nike.to_csv('../datasets/nike_clean.csv', index=False)"
   ]
  },
  {
   "cell_type": "code",
   "execution_count": 85,
   "id": "98c1a7d9",
   "metadata": {},
   "outputs": [],
   "source": [
    "adidas.to_csv('../datasets/adidas_clean.csv', index=False)"
   ]
  },
  {
   "cell_type": "code",
   "execution_count": 86,
   "id": "49304ef6",
   "metadata": {},
   "outputs": [],
   "source": [
    "reddit_nlp.to_csv('../datasets/nike_adidas.csv', index=False)"
   ]
  },
  {
   "cell_type": "code",
   "execution_count": null,
   "id": "f966a2dc",
   "metadata": {},
   "outputs": [],
   "source": []
  }
 ],
 "metadata": {
  "kernelspec": {
   "display_name": "Python 3 (ipykernel)",
   "language": "python",
   "name": "python3"
  },
  "language_info": {
   "codemirror_mode": {
    "name": "ipython",
    "version": 3
   },
   "file_extension": ".py",
   "mimetype": "text/x-python",
   "name": "python",
   "nbconvert_exporter": "python",
   "pygments_lexer": "ipython3",
   "version": "3.9.7"
  }
 },
 "nbformat": 4,
 "nbformat_minor": 5
}
